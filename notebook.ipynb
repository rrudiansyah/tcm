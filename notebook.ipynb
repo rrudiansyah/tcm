{
 "cells": [
  {
   "cell_type": "markdown",
   "id": "adf6af98",
   "metadata": {},
   "source": [
    "# Proyek Analisis Data: Pemeriksaan TCM Laboratorium RSK Paru"
   ]
  },
  {
   "cell_type": "markdown",
   "id": "9443342a",
   "metadata": {},
   "source": [
    "## Menentukan Pertanyaan Bisnis\n",
    "- Bagaimana Peningkatan Kasus TB dari tahun ke tahun melalui hasil pemeriksaan TCM ?\n",
    "- Berapa lama rentang waktu dari tgl permohonan s.d tgl hasil dilaporkan ?\n",
    "- Berapa banyak fasyankes pengirim dari luar RSK Paru ?"
   ]
  },
  {
   "cell_type": "markdown",
   "id": "fd63d858",
   "metadata": {},
   "source": [
    "## Menyiapkan semua library yang dibutuhkan"
   ]
  },
  {
   "cell_type": "code",
   "execution_count": 1,
   "id": "0e3a25f0",
   "metadata": {},
   "outputs": [],
   "source": [
    "import pandas as pd\n",
    "import matplotlib.pyplot as plt\n",
    "import seaborn as sns"
   ]
  },
  {
   "cell_type": "markdown",
   "id": "7fe7a883",
   "metadata": {},
   "source": [
    "## Data Wrangling"
   ]
  },
  {
   "cell_type": "markdown",
   "id": "78a5e5f1",
   "metadata": {},
   "source": [
    "### Gathering Data"
   ]
  },
  {
   "cell_type": "code",
   "execution_count": 2,
   "id": "ffb58026",
   "metadata": {},
   "outputs": [],
   "source": [
    "df = pd.read_excel('Data/HASIL_LAB_REKAP_TCM.xlsx')"
   ]
  },
  {
   "cell_type": "code",
   "execution_count": 3,
   "id": "bb2bc493",
   "metadata": {},
   "outputs": [
    {
     "data": {
      "text/html": [
       "<div>\n",
       "<style scoped>\n",
       "    .dataframe tbody tr th:only-of-type {\n",
       "        vertical-align: middle;\n",
       "    }\n",
       "\n",
       "    .dataframe tbody tr th {\n",
       "        vertical-align: top;\n",
       "    }\n",
       "\n",
       "    .dataframe thead th {\n",
       "        text-align: right;\n",
       "    }\n",
       "</style>\n",
       "<table border=\"1\" class=\"dataframe\">\n",
       "  <thead>\n",
       "    <tr style=\"text-align: right;\">\n",
       "      <th></th>\n",
       "      <th>No</th>\n",
       "      <th>Nama Terduga / Pasien</th>\n",
       "      <th>NIK</th>\n",
       "      <th>Umur</th>\n",
       "      <th>Kode barcode SITB</th>\n",
       "      <th>Kode Barcode Permohonan Lab</th>\n",
       "      <th>Kode Unik TCM</th>\n",
       "      <th>Alasan pemeriksaan</th>\n",
       "      <th>Kriteria Terduga</th>\n",
       "      <th>Tgl Permohonan Lab</th>\n",
       "      <th>Hasil Pemeriksaan TCM</th>\n",
       "      <th>Tgl Pengambilan Contoh Uji</th>\n",
       "      <th>Tgl Contoh Uji Dikirim</th>\n",
       "      <th>Tgl Contoh Uji diterima Lab</th>\n",
       "      <th>Tgl Hasil dilaporkan</th>\n",
       "      <th>TAT Pengiriman</th>\n",
       "      <th>TAT Hasil Pemeriksaan</th>\n",
       "      <th>Fasyankes Pengirim</th>\n",
       "    </tr>\n",
       "  </thead>\n",
       "  <tbody>\n",
       "    <tr>\n",
       "      <th>0</th>\n",
       "      <td>1</td>\n",
       "      <td>Wiwin Febriani</td>\n",
       "      <td>1271154202960001</td>\n",
       "      <td>27</td>\n",
       "      <td>2023000149900004</td>\n",
       "      <td>2308118803</td>\n",
       "      <td>230811880321</td>\n",
       "      <td>Diagnosis TB SO</td>\n",
       "      <td>Terduga TBC SO</td>\n",
       "      <td>2023-05-23</td>\n",
       "      <td>Rif Sen</td>\n",
       "      <td>2023-05-23</td>\n",
       "      <td>2023-05-23</td>\n",
       "      <td>2023-05-25</td>\n",
       "      <td>2023-05-25</td>\n",
       "      <td>2</td>\n",
       "      <td>0</td>\n",
       "      <td>Klinik Anata Kasih</td>\n",
       "    </tr>\n",
       "    <tr>\n",
       "      <th>1</th>\n",
       "      <td>2</td>\n",
       "      <td>MAYA SARI BR S. BRAHMANA</td>\n",
       "      <td>1206095108050001</td>\n",
       "      <td>18</td>\n",
       "      <td>2023000150330068</td>\n",
       "      <td>2309936268</td>\n",
       "      <td>230993626821</td>\n",
       "      <td>Diagnosis TB SO</td>\n",
       "      <td>Terduga TBC SO</td>\n",
       "      <td>2023-09-29</td>\n",
       "      <td>Neg</td>\n",
       "      <td>2023-09-29</td>\n",
       "      <td>2023-09-29</td>\n",
       "      <td>2023-10-02</td>\n",
       "      <td>2023-10-02</td>\n",
       "      <td>3</td>\n",
       "      <td>0</td>\n",
       "      <td>Klinik Citra Medika</td>\n",
       "    </tr>\n",
       "    <tr>\n",
       "      <th>2</th>\n",
       "      <td>3</td>\n",
       "      <td>DELIMA M.BR.SIREGAR</td>\n",
       "      <td>1271054310380001</td>\n",
       "      <td>84</td>\n",
       "      <td>2023000153120008</td>\n",
       "      <td>2309709812</td>\n",
       "      <td>230970981221</td>\n",
       "      <td>Diagnosis TB SO</td>\n",
       "      <td>Terduga TBC SO</td>\n",
       "      <td>2023-09-14</td>\n",
       "      <td>Neg</td>\n",
       "      <td>2023-09-14</td>\n",
       "      <td>2023-09-14</td>\n",
       "      <td>2023-09-15</td>\n",
       "      <td>2023-09-15</td>\n",
       "      <td>1</td>\n",
       "      <td>0</td>\n",
       "      <td>Klinik Diabetes Dharma</td>\n",
       "    </tr>\n",
       "    <tr>\n",
       "      <th>3</th>\n",
       "      <td>4</td>\n",
       "      <td>DEWI ASIH ANGKASARI</td>\n",
       "      <td>1271105007670004</td>\n",
       "      <td>56</td>\n",
       "      <td>2023000153120007</td>\n",
       "      <td>2309606585</td>\n",
       "      <td>230960658521</td>\n",
       "      <td>Diagnosis TB SO</td>\n",
       "      <td>Terduga TBC SO</td>\n",
       "      <td>2023-09-07</td>\n",
       "      <td>Neg</td>\n",
       "      <td>2023-09-07</td>\n",
       "      <td>2023-09-07</td>\n",
       "      <td>2023-09-13</td>\n",
       "      <td>2023-09-13</td>\n",
       "      <td>6</td>\n",
       "      <td>0</td>\n",
       "      <td>Klinik Diabetes Dharma</td>\n",
       "    </tr>\n",
       "    <tr>\n",
       "      <th>4</th>\n",
       "      <td>5</td>\n",
       "      <td>WIDYA KHAIRUNNISA RANGKUTI</td>\n",
       "      <td>1271104207950005</td>\n",
       "      <td>27</td>\n",
       "      <td>2023000153120002</td>\n",
       "      <td>2308573962</td>\n",
       "      <td>230857396221</td>\n",
       "      <td>Diagnosis TB SO</td>\n",
       "      <td>Terduga TBC SO</td>\n",
       "      <td>2023-06-26</td>\n",
       "      <td>Neg</td>\n",
       "      <td>2023-07-06</td>\n",
       "      <td>2023-07-06</td>\n",
       "      <td>2023-06-29</td>\n",
       "      <td>2023-07-03</td>\n",
       "      <td>-7</td>\n",
       "      <td>4</td>\n",
       "      <td>Klinik Diabetes Dharma</td>\n",
       "    </tr>\n",
       "  </tbody>\n",
       "</table>\n",
       "</div>"
      ],
      "text/plain": [
       "   No       Nama Terduga / Pasien               NIK  Umur  Kode barcode SITB  \\\n",
       "0   1              Wiwin Febriani  1271154202960001    27   2023000149900004   \n",
       "1   2    MAYA SARI BR S. BRAHMANA  1206095108050001    18   2023000150330068   \n",
       "2   3         DELIMA M.BR.SIREGAR  1271054310380001    84   2023000153120008   \n",
       "3   4         DEWI ASIH ANGKASARI  1271105007670004    56   2023000153120007   \n",
       "4   5  WIDYA KHAIRUNNISA RANGKUTI  1271104207950005    27   2023000153120002   \n",
       "\n",
       "   Kode Barcode Permohonan Lab  Kode Unik TCM Alasan pemeriksaan  \\\n",
       "0                   2308118803   230811880321    Diagnosis TB SO   \n",
       "1                   2309936268   230993626821    Diagnosis TB SO   \n",
       "2                   2309709812   230970981221    Diagnosis TB SO   \n",
       "3                   2309606585   230960658521    Diagnosis TB SO   \n",
       "4                   2308573962   230857396221    Diagnosis TB SO   \n",
       "\n",
       "  Kriteria Terduga Tgl Permohonan Lab Hasil Pemeriksaan TCM  \\\n",
       "0   Terduga TBC SO         2023-05-23               Rif Sen   \n",
       "1   Terduga TBC SO         2023-09-29                   Neg   \n",
       "2   Terduga TBC SO         2023-09-14                   Neg   \n",
       "3   Terduga TBC SO         2023-09-07                   Neg   \n",
       "4   Terduga TBC SO         2023-06-26                   Neg   \n",
       "\n",
       "  Tgl Pengambilan Contoh Uji Tgl Contoh Uji Dikirim  \\\n",
       "0                 2023-05-23             2023-05-23   \n",
       "1                 2023-09-29             2023-09-29   \n",
       "2                 2023-09-14             2023-09-14   \n",
       "3                 2023-09-07             2023-09-07   \n",
       "4                 2023-07-06             2023-07-06   \n",
       "\n",
       "  Tgl Contoh Uji diterima Lab Tgl Hasil dilaporkan  TAT Pengiriman  \\\n",
       "0                  2023-05-25           2023-05-25               2   \n",
       "1                  2023-10-02           2023-10-02               3   \n",
       "2                  2023-09-15           2023-09-15               1   \n",
       "3                  2023-09-13           2023-09-13               6   \n",
       "4                  2023-06-29           2023-07-03              -7   \n",
       "\n",
       "   TAT Hasil Pemeriksaan        Fasyankes Pengirim  \n",
       "0                        0      Klinik Anata Kasih  \n",
       "1                        0     Klinik Citra Medika  \n",
       "2                        0  Klinik Diabetes Dharma  \n",
       "3                        0  Klinik Diabetes Dharma  \n",
       "4                        4  Klinik Diabetes Dharma  "
      ]
     },
     "execution_count": 3,
     "metadata": {},
     "output_type": "execute_result"
    }
   ],
   "source": [
    "df.head()"
   ]
  },
  {
   "cell_type": "code",
   "execution_count": 4,
   "id": "df9ab56c",
   "metadata": {},
   "outputs": [
    {
     "data": {
      "text/plain": [
       "(4773, 18)"
      ]
     },
     "execution_count": 4,
     "metadata": {},
     "output_type": "execute_result"
    }
   ],
   "source": [
    "df.shape"
   ]
  },
  {
   "cell_type": "markdown",
   "id": "84c4f9ed",
   "metadata": {},
   "source": [
    "### Assessing Data"
   ]
  },
  {
   "cell_type": "markdown",
   "id": "479907df",
   "metadata": {},
   "source": [
    "Melihat Informasi dan Type dari data"
   ]
  },
  {
   "cell_type": "code",
   "execution_count": 5,
   "id": "b8d12586",
   "metadata": {},
   "outputs": [
    {
     "name": "stdout",
     "output_type": "stream",
     "text": [
      "<class 'pandas.core.frame.DataFrame'>\n",
      "RangeIndex: 4773 entries, 0 to 4772\n",
      "Data columns (total 18 columns):\n",
      " #   Column                       Non-Null Count  Dtype         \n",
      "---  ------                       --------------  -----         \n",
      " 0   No                           4773 non-null   int64         \n",
      " 1   Nama Terduga / Pasien        4773 non-null   object        \n",
      " 2   NIK                          4773 non-null   int64         \n",
      " 3   Umur                         4773 non-null   int64         \n",
      " 4   Kode barcode SITB            4773 non-null   int64         \n",
      " 5   Kode Barcode Permohonan Lab  4773 non-null   int64         \n",
      " 6   Kode Unik TCM                4773 non-null   int64         \n",
      " 7   Alasan pemeriksaan           4773 non-null   object        \n",
      " 8   Kriteria Terduga             4773 non-null   object        \n",
      " 9   Tgl Permohonan Lab           4773 non-null   datetime64[ns]\n",
      " 10  Hasil Pemeriksaan TCM        4773 non-null   object        \n",
      " 11  Tgl Pengambilan Contoh Uji   4773 non-null   datetime64[ns]\n",
      " 12  Tgl Contoh Uji Dikirim       4773 non-null   datetime64[ns]\n",
      " 13  Tgl Contoh Uji diterima Lab  4773 non-null   datetime64[ns]\n",
      " 14  Tgl Hasil dilaporkan         4773 non-null   datetime64[ns]\n",
      " 15  TAT Pengiriman               4773 non-null   int64         \n",
      " 16  TAT Hasil Pemeriksaan        4773 non-null   int64         \n",
      " 17  Fasyankes Pengirim           4773 non-null   object        \n",
      "dtypes: datetime64[ns](5), int64(8), object(5)\n",
      "memory usage: 671.3+ KB\n"
     ]
    }
   ],
   "source": [
    "df.info()"
   ]
  },
  {
   "cell_type": "markdown",
   "id": "9b9d833d",
   "metadata": {},
   "source": [
    "Memeriksa Data Missing Value"
   ]
  },
  {
   "cell_type": "code",
   "execution_count": 6,
   "id": "f8a46d47",
   "metadata": {},
   "outputs": [
    {
     "data": {
      "text/plain": [
       "No                             0\n",
       "Nama Terduga / Pasien          0\n",
       "NIK                            0\n",
       "Umur                           0\n",
       "Kode barcode SITB              0\n",
       "Kode Barcode Permohonan Lab    0\n",
       "Kode Unik TCM                  0\n",
       "Alasan pemeriksaan             0\n",
       "Kriteria Terduga               0\n",
       "Tgl Permohonan Lab             0\n",
       "Hasil Pemeriksaan TCM          0\n",
       "Tgl Pengambilan Contoh Uji     0\n",
       "Tgl Contoh Uji Dikirim         0\n",
       "Tgl Contoh Uji diterima Lab    0\n",
       "Tgl Hasil dilaporkan           0\n",
       "TAT Pengiriman                 0\n",
       "TAT Hasil Pemeriksaan          0\n",
       "Fasyankes Pengirim             0\n",
       "dtype: int64"
      ]
     },
     "execution_count": 6,
     "metadata": {},
     "output_type": "execute_result"
    }
   ],
   "source": [
    "df.isnull().sum()"
   ]
  },
  {
   "cell_type": "markdown",
   "id": "15c10a53",
   "metadata": {},
   "source": [
    "Memeriksa Data Duplikat"
   ]
  },
  {
   "cell_type": "code",
   "execution_count": 7,
   "id": "80925dd8",
   "metadata": {},
   "outputs": [
    {
     "data": {
      "text/plain": [
       "0"
      ]
     },
     "execution_count": 7,
     "metadata": {},
     "output_type": "execute_result"
    }
   ],
   "source": [
    "df.duplicated().sum()"
   ]
  },
  {
   "cell_type": "code",
   "execution_count": 8,
   "id": "03550b8b",
   "metadata": {},
   "outputs": [
    {
     "data": {
      "text/html": [
       "<div>\n",
       "<style scoped>\n",
       "    .dataframe tbody tr th:only-of-type {\n",
       "        vertical-align: middle;\n",
       "    }\n",
       "\n",
       "    .dataframe tbody tr th {\n",
       "        vertical-align: top;\n",
       "    }\n",
       "\n",
       "    .dataframe thead th {\n",
       "        text-align: right;\n",
       "    }\n",
       "</style>\n",
       "<table border=\"1\" class=\"dataframe\">\n",
       "  <thead>\n",
       "    <tr style=\"text-align: right;\">\n",
       "      <th></th>\n",
       "      <th>No</th>\n",
       "      <th>NIK</th>\n",
       "      <th>Umur</th>\n",
       "      <th>Kode barcode SITB</th>\n",
       "      <th>Kode Barcode Permohonan Lab</th>\n",
       "      <th>Kode Unik TCM</th>\n",
       "      <th>TAT Pengiriman</th>\n",
       "      <th>TAT Hasil Pemeriksaan</th>\n",
       "    </tr>\n",
       "  </thead>\n",
       "  <tbody>\n",
       "    <tr>\n",
       "      <th>count</th>\n",
       "      <td>4773.000000</td>\n",
       "      <td>4.773000e+03</td>\n",
       "      <td>4773.000000</td>\n",
       "      <td>4.773000e+03</td>\n",
       "      <td>4.773000e+03</td>\n",
       "      <td>4.773000e+03</td>\n",
       "      <td>4773.000000</td>\n",
       "      <td>4773.000000</td>\n",
       "    </tr>\n",
       "    <tr>\n",
       "      <th>mean</th>\n",
       "      <td>2387.000000</td>\n",
       "      <td>1.822877e+15</td>\n",
       "      <td>42.960821</td>\n",
       "      <td>2.022274e+15</td>\n",
       "      <td>2.243086e+09</td>\n",
       "      <td>2.243086e+11</td>\n",
       "      <td>1.693065</td>\n",
       "      <td>0.217054</td>\n",
       "    </tr>\n",
       "    <tr>\n",
       "      <th>std</th>\n",
       "      <td>1377.990747</td>\n",
       "      <td>2.045423e+15</td>\n",
       "      <td>15.853027</td>\n",
       "      <td>7.289975e+11</td>\n",
       "      <td>6.937046e+07</td>\n",
       "      <td>6.937046e+09</td>\n",
       "      <td>3.265024</td>\n",
       "      <td>1.544881</td>\n",
       "    </tr>\n",
       "    <tr>\n",
       "      <th>min</th>\n",
       "      <td>1.000000</td>\n",
       "      <td>8.402051e+11</td>\n",
       "      <td>0.000000</td>\n",
       "      <td>2.019000e+15</td>\n",
       "      <td>2.100242e+09</td>\n",
       "      <td>2.100242e+11</td>\n",
       "      <td>-13.000000</td>\n",
       "      <td>-11.000000</td>\n",
       "    </tr>\n",
       "    <tr>\n",
       "      <th>25%</th>\n",
       "      <td>1194.000000</td>\n",
       "      <td>1.207246e+15</td>\n",
       "      <td>31.000000</td>\n",
       "      <td>2.022000e+15</td>\n",
       "      <td>2.203293e+09</td>\n",
       "      <td>2.203293e+11</td>\n",
       "      <td>0.000000</td>\n",
       "      <td>0.000000</td>\n",
       "    </tr>\n",
       "    <tr>\n",
       "      <th>50%</th>\n",
       "      <td>2387.000000</td>\n",
       "      <td>1.271032e+15</td>\n",
       "      <td>42.000000</td>\n",
       "      <td>2.022000e+15</td>\n",
       "      <td>2.206048e+09</td>\n",
       "      <td>2.206048e+11</td>\n",
       "      <td>1.000000</td>\n",
       "      <td>0.000000</td>\n",
       "    </tr>\n",
       "    <tr>\n",
       "      <th>75%</th>\n",
       "      <td>3580.000000</td>\n",
       "      <td>1.271182e+15</td>\n",
       "      <td>55.000000</td>\n",
       "      <td>2.023000e+15</td>\n",
       "      <td>2.308910e+09</td>\n",
       "      <td>2.308910e+11</td>\n",
       "      <td>2.000000</td>\n",
       "      <td>0.000000</td>\n",
       "    </tr>\n",
       "    <tr>\n",
       "      <th>max</th>\n",
       "      <td>4773.000000</td>\n",
       "      <td>9.999999e+15</td>\n",
       "      <td>122.000000</td>\n",
       "      <td>2.023000e+15</td>\n",
       "      <td>2.309974e+09</td>\n",
       "      <td>2.309974e+11</td>\n",
       "      <td>82.000000</td>\n",
       "      <td>36.000000</td>\n",
       "    </tr>\n",
       "  </tbody>\n",
       "</table>\n",
       "</div>"
      ],
      "text/plain": [
       "                No           NIK         Umur  Kode barcode SITB  \\\n",
       "count  4773.000000  4.773000e+03  4773.000000       4.773000e+03   \n",
       "mean   2387.000000  1.822877e+15    42.960821       2.022274e+15   \n",
       "std    1377.990747  2.045423e+15    15.853027       7.289975e+11   \n",
       "min       1.000000  8.402051e+11     0.000000       2.019000e+15   \n",
       "25%    1194.000000  1.207246e+15    31.000000       2.022000e+15   \n",
       "50%    2387.000000  1.271032e+15    42.000000       2.022000e+15   \n",
       "75%    3580.000000  1.271182e+15    55.000000       2.023000e+15   \n",
       "max    4773.000000  9.999999e+15   122.000000       2.023000e+15   \n",
       "\n",
       "       Kode Barcode Permohonan Lab  Kode Unik TCM  TAT Pengiriman  \\\n",
       "count                 4.773000e+03   4.773000e+03     4773.000000   \n",
       "mean                  2.243086e+09   2.243086e+11        1.693065   \n",
       "std                   6.937046e+07   6.937046e+09        3.265024   \n",
       "min                   2.100242e+09   2.100242e+11      -13.000000   \n",
       "25%                   2.203293e+09   2.203293e+11        0.000000   \n",
       "50%                   2.206048e+09   2.206048e+11        1.000000   \n",
       "75%                   2.308910e+09   2.308910e+11        2.000000   \n",
       "max                   2.309974e+09   2.309974e+11       82.000000   \n",
       "\n",
       "       TAT Hasil Pemeriksaan    \n",
       "count              4773.000000  \n",
       "mean                  0.217054  \n",
       "std                   1.544881  \n",
       "min                 -11.000000  \n",
       "25%                   0.000000  \n",
       "50%                   0.000000  \n",
       "75%                   0.000000  \n",
       "max                  36.000000  "
      ]
     },
     "execution_count": 8,
     "metadata": {},
     "output_type": "execute_result"
    }
   ],
   "source": [
    "df.describe()"
   ]
  },
  {
   "cell_type": "markdown",
   "id": "a104d454",
   "metadata": {},
   "source": [
    "### Cleaning Data"
   ]
  },
  {
   "cell_type": "markdown",
   "id": "607808f6",
   "metadata": {},
   "source": [
    "Menghapus kolom yang tidak diperlukan"
   ]
  },
  {
   "cell_type": "code",
   "execution_count": 9,
   "id": "3e9226ef",
   "metadata": {},
   "outputs": [],
   "source": [
    "df.drop(['Nama Terduga / Pasien','NIK','Kode barcode SITB','Kode Barcode Permohonan Lab','Kode Unik TCM','TAT Pengiriman'], axis=1, inplace=True)"
   ]
  },
  {
   "cell_type": "code",
   "execution_count": 10,
   "id": "2c1305c3",
   "metadata": {},
   "outputs": [
    {
     "data": {
      "text/html": [
       "<div>\n",
       "<style scoped>\n",
       "    .dataframe tbody tr th:only-of-type {\n",
       "        vertical-align: middle;\n",
       "    }\n",
       "\n",
       "    .dataframe tbody tr th {\n",
       "        vertical-align: top;\n",
       "    }\n",
       "\n",
       "    .dataframe thead th {\n",
       "        text-align: right;\n",
       "    }\n",
       "</style>\n",
       "<table border=\"1\" class=\"dataframe\">\n",
       "  <thead>\n",
       "    <tr style=\"text-align: right;\">\n",
       "      <th></th>\n",
       "      <th>No</th>\n",
       "      <th>Umur</th>\n",
       "      <th>Alasan pemeriksaan</th>\n",
       "      <th>Kriteria Terduga</th>\n",
       "      <th>Tgl Permohonan Lab</th>\n",
       "      <th>Hasil Pemeriksaan TCM</th>\n",
       "      <th>Tgl Pengambilan Contoh Uji</th>\n",
       "      <th>Tgl Contoh Uji Dikirim</th>\n",
       "      <th>Tgl Contoh Uji diterima Lab</th>\n",
       "      <th>Tgl Hasil dilaporkan</th>\n",
       "      <th>TAT Hasil Pemeriksaan</th>\n",
       "      <th>Fasyankes Pengirim</th>\n",
       "    </tr>\n",
       "  </thead>\n",
       "  <tbody>\n",
       "    <tr>\n",
       "      <th>0</th>\n",
       "      <td>1</td>\n",
       "      <td>27</td>\n",
       "      <td>Diagnosis TB SO</td>\n",
       "      <td>Terduga TBC SO</td>\n",
       "      <td>2023-05-23</td>\n",
       "      <td>Rif Sen</td>\n",
       "      <td>2023-05-23</td>\n",
       "      <td>2023-05-23</td>\n",
       "      <td>2023-05-25</td>\n",
       "      <td>2023-05-25</td>\n",
       "      <td>0</td>\n",
       "      <td>Klinik Anata Kasih</td>\n",
       "    </tr>\n",
       "    <tr>\n",
       "      <th>1</th>\n",
       "      <td>2</td>\n",
       "      <td>18</td>\n",
       "      <td>Diagnosis TB SO</td>\n",
       "      <td>Terduga TBC SO</td>\n",
       "      <td>2023-09-29</td>\n",
       "      <td>Neg</td>\n",
       "      <td>2023-09-29</td>\n",
       "      <td>2023-09-29</td>\n",
       "      <td>2023-10-02</td>\n",
       "      <td>2023-10-02</td>\n",
       "      <td>0</td>\n",
       "      <td>Klinik Citra Medika</td>\n",
       "    </tr>\n",
       "    <tr>\n",
       "      <th>2</th>\n",
       "      <td>3</td>\n",
       "      <td>84</td>\n",
       "      <td>Diagnosis TB SO</td>\n",
       "      <td>Terduga TBC SO</td>\n",
       "      <td>2023-09-14</td>\n",
       "      <td>Neg</td>\n",
       "      <td>2023-09-14</td>\n",
       "      <td>2023-09-14</td>\n",
       "      <td>2023-09-15</td>\n",
       "      <td>2023-09-15</td>\n",
       "      <td>0</td>\n",
       "      <td>Klinik Diabetes Dharma</td>\n",
       "    </tr>\n",
       "    <tr>\n",
       "      <th>3</th>\n",
       "      <td>4</td>\n",
       "      <td>56</td>\n",
       "      <td>Diagnosis TB SO</td>\n",
       "      <td>Terduga TBC SO</td>\n",
       "      <td>2023-09-07</td>\n",
       "      <td>Neg</td>\n",
       "      <td>2023-09-07</td>\n",
       "      <td>2023-09-07</td>\n",
       "      <td>2023-09-13</td>\n",
       "      <td>2023-09-13</td>\n",
       "      <td>0</td>\n",
       "      <td>Klinik Diabetes Dharma</td>\n",
       "    </tr>\n",
       "    <tr>\n",
       "      <th>4</th>\n",
       "      <td>5</td>\n",
       "      <td>27</td>\n",
       "      <td>Diagnosis TB SO</td>\n",
       "      <td>Terduga TBC SO</td>\n",
       "      <td>2023-06-26</td>\n",
       "      <td>Neg</td>\n",
       "      <td>2023-07-06</td>\n",
       "      <td>2023-07-06</td>\n",
       "      <td>2023-06-29</td>\n",
       "      <td>2023-07-03</td>\n",
       "      <td>4</td>\n",
       "      <td>Klinik Diabetes Dharma</td>\n",
       "    </tr>\n",
       "  </tbody>\n",
       "</table>\n",
       "</div>"
      ],
      "text/plain": [
       "   No  Umur Alasan pemeriksaan Kriteria Terduga Tgl Permohonan Lab  \\\n",
       "0   1    27    Diagnosis TB SO   Terduga TBC SO         2023-05-23   \n",
       "1   2    18    Diagnosis TB SO   Terduga TBC SO         2023-09-29   \n",
       "2   3    84    Diagnosis TB SO   Terduga TBC SO         2023-09-14   \n",
       "3   4    56    Diagnosis TB SO   Terduga TBC SO         2023-09-07   \n",
       "4   5    27    Diagnosis TB SO   Terduga TBC SO         2023-06-26   \n",
       "\n",
       "  Hasil Pemeriksaan TCM Tgl Pengambilan Contoh Uji Tgl Contoh Uji Dikirim  \\\n",
       "0               Rif Sen                 2023-05-23             2023-05-23   \n",
       "1                   Neg                 2023-09-29             2023-09-29   \n",
       "2                   Neg                 2023-09-14             2023-09-14   \n",
       "3                   Neg                 2023-09-07             2023-09-07   \n",
       "4                   Neg                 2023-07-06             2023-07-06   \n",
       "\n",
       "  Tgl Contoh Uji diterima Lab Tgl Hasil dilaporkan  TAT Hasil Pemeriksaan    \\\n",
       "0                  2023-05-25           2023-05-25                        0   \n",
       "1                  2023-10-02           2023-10-02                        0   \n",
       "2                  2023-09-15           2023-09-15                        0   \n",
       "3                  2023-09-13           2023-09-13                        0   \n",
       "4                  2023-06-29           2023-07-03                        4   \n",
       "\n",
       "       Fasyankes Pengirim  \n",
       "0      Klinik Anata Kasih  \n",
       "1     Klinik Citra Medika  \n",
       "2  Klinik Diabetes Dharma  \n",
       "3  Klinik Diabetes Dharma  \n",
       "4  Klinik Diabetes Dharma  "
      ]
     },
     "execution_count": 10,
     "metadata": {},
     "output_type": "execute_result"
    }
   ],
   "source": [
    "df.head()"
   ]
  },
  {
   "cell_type": "markdown",
   "id": "5b187926",
   "metadata": {},
   "source": [
    "Memeriksan masalah inaccurate value pada kolom Umur"
   ]
  },
  {
   "cell_type": "code",
   "execution_count": 11,
   "id": "044823dc",
   "metadata": {},
   "outputs": [
    {
     "data": {
      "text/html": [
       "<div>\n",
       "<style scoped>\n",
       "    .dataframe tbody tr th:only-of-type {\n",
       "        vertical-align: middle;\n",
       "    }\n",
       "\n",
       "    .dataframe tbody tr th {\n",
       "        vertical-align: top;\n",
       "    }\n",
       "\n",
       "    .dataframe thead th {\n",
       "        text-align: right;\n",
       "    }\n",
       "</style>\n",
       "<table border=\"1\" class=\"dataframe\">\n",
       "  <thead>\n",
       "    <tr style=\"text-align: right;\">\n",
       "      <th></th>\n",
       "      <th>No</th>\n",
       "      <th>Umur</th>\n",
       "      <th>Alasan pemeriksaan</th>\n",
       "      <th>Kriteria Terduga</th>\n",
       "      <th>Tgl Permohonan Lab</th>\n",
       "      <th>Hasil Pemeriksaan TCM</th>\n",
       "      <th>Tgl Pengambilan Contoh Uji</th>\n",
       "      <th>Tgl Contoh Uji Dikirim</th>\n",
       "      <th>Tgl Contoh Uji diterima Lab</th>\n",
       "      <th>Tgl Hasil dilaporkan</th>\n",
       "      <th>TAT Hasil Pemeriksaan</th>\n",
       "      <th>Fasyankes Pengirim</th>\n",
       "    </tr>\n",
       "  </thead>\n",
       "  <tbody>\n",
       "    <tr>\n",
       "      <th>1241</th>\n",
       "      <td>1242</td>\n",
       "      <td>122</td>\n",
       "      <td>Diagnosis TB SO</td>\n",
       "      <td>Terduga TBC SO</td>\n",
       "      <td>2023-08-30</td>\n",
       "      <td>Neg</td>\n",
       "      <td>2023-08-30</td>\n",
       "      <td>2023-08-30</td>\n",
       "      <td>2023-08-31</td>\n",
       "      <td>2023-08-31</td>\n",
       "      <td>0</td>\n",
       "      <td>Rutan Kelas I Medan</td>\n",
       "    </tr>\n",
       "  </tbody>\n",
       "</table>\n",
       "</div>"
      ],
      "text/plain": [
       "        No  Umur Alasan pemeriksaan Kriteria Terduga Tgl Permohonan Lab  \\\n",
       "1241  1242   122    Diagnosis TB SO   Terduga TBC SO         2023-08-30   \n",
       "\n",
       "     Hasil Pemeriksaan TCM Tgl Pengambilan Contoh Uji Tgl Contoh Uji Dikirim  \\\n",
       "1241                   Neg                 2023-08-30             2023-08-30   \n",
       "\n",
       "     Tgl Contoh Uji diterima Lab Tgl Hasil dilaporkan  \\\n",
       "1241                  2023-08-31           2023-08-31   \n",
       "\n",
       "      TAT Hasil Pemeriksaan     Fasyankes Pengirim  \n",
       "1241                        0  Rutan Kelas I Medan  "
      ]
     },
     "execution_count": 11,
     "metadata": {},
     "output_type": "execute_result"
    }
   ],
   "source": [
    "df[df.Umur == df.Umur.max()]"
   ]
  },
  {
   "cell_type": "markdown",
   "id": "60cd0423",
   "metadata": {},
   "source": [
    "Mengganti umur 122 pada kolom umur menjadi 22"
   ]
  },
  {
   "cell_type": "code",
   "execution_count": 12,
   "id": "bdd8df0a",
   "metadata": {},
   "outputs": [],
   "source": [
    "df.Umur.replace(df.Umur.max(), 22, inplace=True)"
   ]
  },
  {
   "cell_type": "code",
   "execution_count": 13,
   "id": "312c2ed7",
   "metadata": {},
   "outputs": [
    {
     "data": {
      "text/plain": [
       "count    4773.00000\n",
       "mean       42.93987\n",
       "std        15.81458\n",
       "min         0.00000\n",
       "25%        31.00000\n",
       "50%        42.00000\n",
       "75%        55.00000\n",
       "max        96.00000\n",
       "Name: Umur, dtype: float64"
      ]
     },
     "execution_count": 13,
     "metadata": {},
     "output_type": "execute_result"
    }
   ],
   "source": [
    "df[\"Umur\"].describe()"
   ]
  },
  {
   "cell_type": "markdown",
   "id": "f92395af",
   "metadata": {},
   "source": [
    "## Exploratory Data Analysis (EDA)"
   ]
  },
  {
   "cell_type": "code",
   "execution_count": 14,
   "id": "792494d4",
   "metadata": {},
   "outputs": [
    {
     "data": {
      "text/html": [
       "<div>\n",
       "<style scoped>\n",
       "    .dataframe tbody tr th:only-of-type {\n",
       "        vertical-align: middle;\n",
       "    }\n",
       "\n",
       "    .dataframe tbody tr th {\n",
       "        vertical-align: top;\n",
       "    }\n",
       "\n",
       "    .dataframe thead th {\n",
       "        text-align: right;\n",
       "    }\n",
       "</style>\n",
       "<table border=\"1\" class=\"dataframe\">\n",
       "  <thead>\n",
       "    <tr style=\"text-align: right;\">\n",
       "      <th></th>\n",
       "      <th>No</th>\n",
       "      <th>Umur</th>\n",
       "      <th>TAT Hasil Pemeriksaan</th>\n",
       "    </tr>\n",
       "  </thead>\n",
       "  <tbody>\n",
       "    <tr>\n",
       "      <th>count</th>\n",
       "      <td>4773.000000</td>\n",
       "      <td>4773.00000</td>\n",
       "      <td>4773.000000</td>\n",
       "    </tr>\n",
       "    <tr>\n",
       "      <th>mean</th>\n",
       "      <td>2387.000000</td>\n",
       "      <td>42.93987</td>\n",
       "      <td>0.217054</td>\n",
       "    </tr>\n",
       "    <tr>\n",
       "      <th>std</th>\n",
       "      <td>1377.990747</td>\n",
       "      <td>15.81458</td>\n",
       "      <td>1.544881</td>\n",
       "    </tr>\n",
       "    <tr>\n",
       "      <th>min</th>\n",
       "      <td>1.000000</td>\n",
       "      <td>0.00000</td>\n",
       "      <td>-11.000000</td>\n",
       "    </tr>\n",
       "    <tr>\n",
       "      <th>25%</th>\n",
       "      <td>1194.000000</td>\n",
       "      <td>31.00000</td>\n",
       "      <td>0.000000</td>\n",
       "    </tr>\n",
       "    <tr>\n",
       "      <th>50%</th>\n",
       "      <td>2387.000000</td>\n",
       "      <td>42.00000</td>\n",
       "      <td>0.000000</td>\n",
       "    </tr>\n",
       "    <tr>\n",
       "      <th>75%</th>\n",
       "      <td>3580.000000</td>\n",
       "      <td>55.00000</td>\n",
       "      <td>0.000000</td>\n",
       "    </tr>\n",
       "    <tr>\n",
       "      <th>max</th>\n",
       "      <td>4773.000000</td>\n",
       "      <td>96.00000</td>\n",
       "      <td>36.000000</td>\n",
       "    </tr>\n",
       "  </tbody>\n",
       "</table>\n",
       "</div>"
      ],
      "text/plain": [
       "                No        Umur  TAT Hasil Pemeriksaan  \n",
       "count  4773.000000  4773.00000              4773.000000\n",
       "mean   2387.000000    42.93987                 0.217054\n",
       "std    1377.990747    15.81458                 1.544881\n",
       "min       1.000000     0.00000               -11.000000\n",
       "25%    1194.000000    31.00000                 0.000000\n",
       "50%    2387.000000    42.00000                 0.000000\n",
       "75%    3580.000000    55.00000                 0.000000\n",
       "max    4773.000000    96.00000                36.000000"
      ]
     },
     "execution_count": 14,
     "metadata": {},
     "output_type": "execute_result"
    }
   ],
   "source": [
    "df.describe()"
   ]
  },
  {
   "cell_type": "code",
   "execution_count": 15,
   "id": "47d437bc",
   "metadata": {},
   "outputs": [
    {
     "data": {
      "text/plain": [
       "Diagnosis TB SO                   4168\n",
       "Diagnosis TB RO                    576\n",
       "Pemeriksaan Diagnosis Baseline      29\n",
       "Name: Alasan pemeriksaan, dtype: int64"
      ]
     },
     "execution_count": 15,
     "metadata": {},
     "output_type": "execute_result"
    }
   ],
   "source": [
    "df['Alasan pemeriksaan'].value_counts()"
   ]
  },
  {
   "cell_type": "code",
   "execution_count": 16,
   "id": "f6f89a94",
   "metadata": {},
   "outputs": [
    {
     "data": {
      "text/plain": [
       "Terduga TBC SO    4168\n",
       "Terduga TBC RO     576\n",
       "Pasien TB SO        29\n",
       "Name: Kriteria Terduga, dtype: int64"
      ]
     },
     "execution_count": 16,
     "metadata": {},
     "output_type": "execute_result"
    }
   ],
   "source": [
    "df['Kriteria Terduga'].value_counts()"
   ]
  },
  {
   "cell_type": "code",
   "execution_count": 17,
   "id": "2e65491e",
   "metadata": {},
   "outputs": [
    {
     "data": {
      "text/plain": [
       "Neg          3122\n",
       "Rif Sen      1247\n",
       "ERROR         195\n",
       "Rif Res       121\n",
       "Rif Indet      47\n",
       "INVALID        26\n",
       "NO RESULT      14\n",
       "TDL             1\n",
       "Name: Hasil Pemeriksaan TCM, dtype: int64"
      ]
     },
     "execution_count": 17,
     "metadata": {},
     "output_type": "execute_result"
    }
   ],
   "source": [
    "df['Hasil Pemeriksaan TCM'].value_counts()"
   ]
  },
  {
   "cell_type": "code",
   "execution_count": 18,
   "id": "0cb63dfe",
   "metadata": {},
   "outputs": [
    {
     "data": {
      "text/plain": [
       "UPT RS Khusus Paru Sumatera Utara              2993\n",
       "Rutan Kelas I Medan                             546\n",
       "LAPAS Kelas I Medan                             381\n",
       "Puskesmas Helvetia                              165\n",
       "RS Umum Hermina Kota Medan                      123\n",
       "Rutan Kelas I Labuhan Deli                      122\n",
       "LAPAS Perempuan Kelas II-A Medan                 99\n",
       "Puskesmas Desa Lalang                            58\n",
       "Puskesmas Padang Bulan Selayang II               50\n",
       "Klinik Milenium                                  47\n",
       "RS Umum Universitas Sumatera Utara               39\n",
       "Klinik Kurnia Medan                              31\n",
       "RS Umum Bunda Thamrin                            22\n",
       "Rutan Perempuan Kelas II-A Medan                 18\n",
       "Klinik Wulandari                                 15\n",
       "RS Umum Sundari                                  14\n",
       "Klinik Hasanuddin                                10\n",
       "Lembaga Pembinaan Khusus Anak Kelas I Medan      10\n",
       "Puskesmas Titi Papan                              9\n",
       "Klinik Ummi                                       6\n",
       "Klinik Diabetes Dharma                            3\n",
       "Klinik Pratama Serasi                             3\n",
       "Klinik Tan 21                                     3\n",
       "Klinik Utama Rawat Jalan Jemadi                   2\n",
       "Klinik Helvetia III                               1\n",
       "Klinik Harapan Sehat Sejahtera                    1\n",
       "Klinik Citra Medika                               1\n",
       "Klinik Anata Kasih                                1\n",
       "Name: Fasyankes Pengirim, dtype: int64"
      ]
     },
     "execution_count": 18,
     "metadata": {},
     "output_type": "execute_result"
    }
   ],
   "source": [
    "df['Fasyankes Pengirim'].value_counts()"
   ]
  },
  {
   "cell_type": "markdown",
   "id": "952ff022",
   "metadata": {},
   "source": [
    "Durasi Pemeriksaan dari tgl permohonan s.d tgl dilaporkan"
   ]
  },
  {
   "cell_type": "code",
   "execution_count": 19,
   "id": "fc5639f2",
   "metadata": {},
   "outputs": [],
   "source": [
    "duration_time = df[\"Tgl Hasil dilaporkan\"] - df[\"Tgl Permohonan Lab\"]\n",
    "duration_time = duration_time.apply(lambda x: x.total_seconds())\n",
    "df[\"duration_time\"] = round(duration_time/86400)"
   ]
  },
  {
   "cell_type": "code",
   "execution_count": 20,
   "id": "38f4d98d",
   "metadata": {},
   "outputs": [
    {
     "data": {
      "text/html": [
       "<div>\n",
       "<style scoped>\n",
       "    .dataframe tbody tr th:only-of-type {\n",
       "        vertical-align: middle;\n",
       "    }\n",
       "\n",
       "    .dataframe tbody tr th {\n",
       "        vertical-align: top;\n",
       "    }\n",
       "\n",
       "    .dataframe thead th {\n",
       "        text-align: right;\n",
       "    }\n",
       "</style>\n",
       "<table border=\"1\" class=\"dataframe\">\n",
       "  <thead>\n",
       "    <tr style=\"text-align: right;\">\n",
       "      <th></th>\n",
       "      <th>No</th>\n",
       "      <th>Umur</th>\n",
       "      <th>Alasan pemeriksaan</th>\n",
       "      <th>Kriteria Terduga</th>\n",
       "      <th>Tgl Permohonan Lab</th>\n",
       "      <th>Hasil Pemeriksaan TCM</th>\n",
       "      <th>Tgl Pengambilan Contoh Uji</th>\n",
       "      <th>Tgl Contoh Uji Dikirim</th>\n",
       "      <th>Tgl Contoh Uji diterima Lab</th>\n",
       "      <th>Tgl Hasil dilaporkan</th>\n",
       "      <th>TAT Hasil Pemeriksaan</th>\n",
       "      <th>Fasyankes Pengirim</th>\n",
       "      <th>duration_time</th>\n",
       "    </tr>\n",
       "  </thead>\n",
       "  <tbody>\n",
       "    <tr>\n",
       "      <th>0</th>\n",
       "      <td>1</td>\n",
       "      <td>27</td>\n",
       "      <td>Diagnosis TB SO</td>\n",
       "      <td>Terduga TBC SO</td>\n",
       "      <td>2023-05-23</td>\n",
       "      <td>Rif Sen</td>\n",
       "      <td>2023-05-23</td>\n",
       "      <td>2023-05-23</td>\n",
       "      <td>2023-05-25</td>\n",
       "      <td>2023-05-25</td>\n",
       "      <td>0</td>\n",
       "      <td>Klinik Anata Kasih</td>\n",
       "      <td>2.0</td>\n",
       "    </tr>\n",
       "    <tr>\n",
       "      <th>1</th>\n",
       "      <td>2</td>\n",
       "      <td>18</td>\n",
       "      <td>Diagnosis TB SO</td>\n",
       "      <td>Terduga TBC SO</td>\n",
       "      <td>2023-09-29</td>\n",
       "      <td>Neg</td>\n",
       "      <td>2023-09-29</td>\n",
       "      <td>2023-09-29</td>\n",
       "      <td>2023-10-02</td>\n",
       "      <td>2023-10-02</td>\n",
       "      <td>0</td>\n",
       "      <td>Klinik Citra Medika</td>\n",
       "      <td>3.0</td>\n",
       "    </tr>\n",
       "    <tr>\n",
       "      <th>2</th>\n",
       "      <td>3</td>\n",
       "      <td>84</td>\n",
       "      <td>Diagnosis TB SO</td>\n",
       "      <td>Terduga TBC SO</td>\n",
       "      <td>2023-09-14</td>\n",
       "      <td>Neg</td>\n",
       "      <td>2023-09-14</td>\n",
       "      <td>2023-09-14</td>\n",
       "      <td>2023-09-15</td>\n",
       "      <td>2023-09-15</td>\n",
       "      <td>0</td>\n",
       "      <td>Klinik Diabetes Dharma</td>\n",
       "      <td>1.0</td>\n",
       "    </tr>\n",
       "    <tr>\n",
       "      <th>3</th>\n",
       "      <td>4</td>\n",
       "      <td>56</td>\n",
       "      <td>Diagnosis TB SO</td>\n",
       "      <td>Terduga TBC SO</td>\n",
       "      <td>2023-09-07</td>\n",
       "      <td>Neg</td>\n",
       "      <td>2023-09-07</td>\n",
       "      <td>2023-09-07</td>\n",
       "      <td>2023-09-13</td>\n",
       "      <td>2023-09-13</td>\n",
       "      <td>0</td>\n",
       "      <td>Klinik Diabetes Dharma</td>\n",
       "      <td>6.0</td>\n",
       "    </tr>\n",
       "    <tr>\n",
       "      <th>4</th>\n",
       "      <td>5</td>\n",
       "      <td>27</td>\n",
       "      <td>Diagnosis TB SO</td>\n",
       "      <td>Terduga TBC SO</td>\n",
       "      <td>2023-06-26</td>\n",
       "      <td>Neg</td>\n",
       "      <td>2023-07-06</td>\n",
       "      <td>2023-07-06</td>\n",
       "      <td>2023-06-29</td>\n",
       "      <td>2023-07-03</td>\n",
       "      <td>4</td>\n",
       "      <td>Klinik Diabetes Dharma</td>\n",
       "      <td>7.0</td>\n",
       "    </tr>\n",
       "  </tbody>\n",
       "</table>\n",
       "</div>"
      ],
      "text/plain": [
       "   No  Umur Alasan pemeriksaan Kriteria Terduga Tgl Permohonan Lab  \\\n",
       "0   1    27    Diagnosis TB SO   Terduga TBC SO         2023-05-23   \n",
       "1   2    18    Diagnosis TB SO   Terduga TBC SO         2023-09-29   \n",
       "2   3    84    Diagnosis TB SO   Terduga TBC SO         2023-09-14   \n",
       "3   4    56    Diagnosis TB SO   Terduga TBC SO         2023-09-07   \n",
       "4   5    27    Diagnosis TB SO   Terduga TBC SO         2023-06-26   \n",
       "\n",
       "  Hasil Pemeriksaan TCM Tgl Pengambilan Contoh Uji Tgl Contoh Uji Dikirim  \\\n",
       "0               Rif Sen                 2023-05-23             2023-05-23   \n",
       "1                   Neg                 2023-09-29             2023-09-29   \n",
       "2                   Neg                 2023-09-14             2023-09-14   \n",
       "3                   Neg                 2023-09-07             2023-09-07   \n",
       "4                   Neg                 2023-07-06             2023-07-06   \n",
       "\n",
       "  Tgl Contoh Uji diterima Lab Tgl Hasil dilaporkan  TAT Hasil Pemeriksaan    \\\n",
       "0                  2023-05-25           2023-05-25                        0   \n",
       "1                  2023-10-02           2023-10-02                        0   \n",
       "2                  2023-09-15           2023-09-15                        0   \n",
       "3                  2023-09-13           2023-09-13                        0   \n",
       "4                  2023-06-29           2023-07-03                        4   \n",
       "\n",
       "       Fasyankes Pengirim  duration_time  \n",
       "0      Klinik Anata Kasih            2.0  \n",
       "1     Klinik Citra Medika            3.0  \n",
       "2  Klinik Diabetes Dharma            1.0  \n",
       "3  Klinik Diabetes Dharma            6.0  \n",
       "4  Klinik Diabetes Dharma            7.0  "
      ]
     },
     "execution_count": 20,
     "metadata": {},
     "output_type": "execute_result"
    }
   ],
   "source": [
    "df.head()"
   ]
  },
  {
   "cell_type": "code",
   "execution_count": 21,
   "id": "cb15facb",
   "metadata": {},
   "outputs": [
    {
     "data": {
      "text/html": [
       "<div>\n",
       "<style scoped>\n",
       "    .dataframe tbody tr th:only-of-type {\n",
       "        vertical-align: middle;\n",
       "    }\n",
       "\n",
       "    .dataframe tbody tr th {\n",
       "        vertical-align: top;\n",
       "    }\n",
       "\n",
       "    .dataframe thead th {\n",
       "        text-align: right;\n",
       "    }\n",
       "</style>\n",
       "<table border=\"1\" class=\"dataframe\">\n",
       "  <thead>\n",
       "    <tr style=\"text-align: right;\">\n",
       "      <th></th>\n",
       "      <th>No</th>\n",
       "      <th>Umur</th>\n",
       "      <th>TAT Hasil Pemeriksaan</th>\n",
       "      <th>duration_time</th>\n",
       "    </tr>\n",
       "  </thead>\n",
       "  <tbody>\n",
       "    <tr>\n",
       "      <th>count</th>\n",
       "      <td>4773.000000</td>\n",
       "      <td>4773.00000</td>\n",
       "      <td>4773.000000</td>\n",
       "      <td>4773.000000</td>\n",
       "    </tr>\n",
       "    <tr>\n",
       "      <th>mean</th>\n",
       "      <td>2387.000000</td>\n",
       "      <td>42.93987</td>\n",
       "      <td>0.217054</td>\n",
       "      <td>1.982191</td>\n",
       "    </tr>\n",
       "    <tr>\n",
       "      <th>std</th>\n",
       "      <td>1377.990747</td>\n",
       "      <td>15.81458</td>\n",
       "      <td>1.544881</td>\n",
       "      <td>3.446924</td>\n",
       "    </tr>\n",
       "    <tr>\n",
       "      <th>min</th>\n",
       "      <td>1.000000</td>\n",
       "      <td>0.00000</td>\n",
       "      <td>-11.000000</td>\n",
       "      <td>-4.000000</td>\n",
       "    </tr>\n",
       "    <tr>\n",
       "      <th>25%</th>\n",
       "      <td>1194.000000</td>\n",
       "      <td>31.00000</td>\n",
       "      <td>0.000000</td>\n",
       "      <td>1.000000</td>\n",
       "    </tr>\n",
       "    <tr>\n",
       "      <th>50%</th>\n",
       "      <td>2387.000000</td>\n",
       "      <td>42.00000</td>\n",
       "      <td>0.000000</td>\n",
       "      <td>1.000000</td>\n",
       "    </tr>\n",
       "    <tr>\n",
       "      <th>75%</th>\n",
       "      <td>3580.000000</td>\n",
       "      <td>55.00000</td>\n",
       "      <td>0.000000</td>\n",
       "      <td>2.000000</td>\n",
       "    </tr>\n",
       "    <tr>\n",
       "      <th>max</th>\n",
       "      <td>4773.000000</td>\n",
       "      <td>96.00000</td>\n",
       "      <td>36.000000</td>\n",
       "      <td>82.000000</td>\n",
       "    </tr>\n",
       "  </tbody>\n",
       "</table>\n",
       "</div>"
      ],
      "text/plain": [
       "                No        Umur  TAT Hasil Pemeriksaan    duration_time\n",
       "count  4773.000000  4773.00000              4773.000000    4773.000000\n",
       "mean   2387.000000    42.93987                 0.217054       1.982191\n",
       "std    1377.990747    15.81458                 1.544881       3.446924\n",
       "min       1.000000     0.00000               -11.000000      -4.000000\n",
       "25%    1194.000000    31.00000                 0.000000       1.000000\n",
       "50%    2387.000000    42.00000                 0.000000       1.000000\n",
       "75%    3580.000000    55.00000                 0.000000       2.000000\n",
       "max    4773.000000    96.00000                36.000000      82.000000"
      ]
     },
     "execution_count": 21,
     "metadata": {},
     "output_type": "execute_result"
    }
   ],
   "source": [
    "df.describe()"
   ]
  },
  {
   "cell_type": "markdown",
   "id": "77b92a1d",
   "metadata": {},
   "source": [
    "Menampilkan data inaccurate value pada kolom duration_kolom"
   ]
  },
  {
   "cell_type": "code",
   "execution_count": 22,
   "id": "bc45f0d4",
   "metadata": {},
   "outputs": [
    {
     "data": {
      "text/html": [
       "<div>\n",
       "<style scoped>\n",
       "    .dataframe tbody tr th:only-of-type {\n",
       "        vertical-align: middle;\n",
       "    }\n",
       "\n",
       "    .dataframe tbody tr th {\n",
       "        vertical-align: top;\n",
       "    }\n",
       "\n",
       "    .dataframe thead th {\n",
       "        text-align: right;\n",
       "    }\n",
       "</style>\n",
       "<table border=\"1\" class=\"dataframe\">\n",
       "  <thead>\n",
       "    <tr style=\"text-align: right;\">\n",
       "      <th></th>\n",
       "      <th>No</th>\n",
       "      <th>Umur</th>\n",
       "      <th>Alasan pemeriksaan</th>\n",
       "      <th>Kriteria Terduga</th>\n",
       "      <th>Tgl Permohonan Lab</th>\n",
       "      <th>Hasil Pemeriksaan TCM</th>\n",
       "      <th>Tgl Pengambilan Contoh Uji</th>\n",
       "      <th>Tgl Contoh Uji Dikirim</th>\n",
       "      <th>Tgl Contoh Uji diterima Lab</th>\n",
       "      <th>Tgl Hasil dilaporkan</th>\n",
       "      <th>TAT Hasil Pemeriksaan</th>\n",
       "      <th>Fasyankes Pengirim</th>\n",
       "      <th>duration_time</th>\n",
       "    </tr>\n",
       "  </thead>\n",
       "  <tbody>\n",
       "    <tr>\n",
       "      <th>522</th>\n",
       "      <td>523</td>\n",
       "      <td>50</td>\n",
       "      <td>Diagnosis TB SO</td>\n",
       "      <td>Terduga TBC SO</td>\n",
       "      <td>2022-03-08</td>\n",
       "      <td>Neg</td>\n",
       "      <td>2022-03-08</td>\n",
       "      <td>2022-03-08</td>\n",
       "      <td>2022-03-04</td>\n",
       "      <td>2022-03-04</td>\n",
       "      <td>0</td>\n",
       "      <td>LAPAS Perempuan Kelas II-A Medan</td>\n",
       "      <td>-4.0</td>\n",
       "    </tr>\n",
       "  </tbody>\n",
       "</table>\n",
       "</div>"
      ],
      "text/plain": [
       "      No  Umur Alasan pemeriksaan Kriteria Terduga Tgl Permohonan Lab  \\\n",
       "522  523    50    Diagnosis TB SO   Terduga TBC SO         2022-03-08   \n",
       "\n",
       "    Hasil Pemeriksaan TCM Tgl Pengambilan Contoh Uji Tgl Contoh Uji Dikirim  \\\n",
       "522                   Neg                 2022-03-08             2022-03-08   \n",
       "\n",
       "    Tgl Contoh Uji diterima Lab Tgl Hasil dilaporkan  TAT Hasil Pemeriksaan    \\\n",
       "522                  2022-03-04           2022-03-04                        0   \n",
       "\n",
       "                   Fasyankes Pengirim  duration_time  \n",
       "522  LAPAS Perempuan Kelas II-A Medan           -4.0  "
      ]
     },
     "execution_count": 22,
     "metadata": {},
     "output_type": "execute_result"
    }
   ],
   "source": [
    "df[df.duration_time == df.duration_time.min()]"
   ]
  },
  {
   "cell_type": "code",
   "execution_count": 23,
   "id": "7ce557ce",
   "metadata": {},
   "outputs": [],
   "source": [
    "df[\"duration_time\"].replace(df[\"duration_time\"].min(), 1, inplace=True)"
   ]
  },
  {
   "cell_type": "code",
   "execution_count": 24,
   "id": "0446988e",
   "metadata": {},
   "outputs": [
    {
     "data": {
      "text/html": [
       "<div>\n",
       "<style scoped>\n",
       "    .dataframe tbody tr th:only-of-type {\n",
       "        vertical-align: middle;\n",
       "    }\n",
       "\n",
       "    .dataframe tbody tr th {\n",
       "        vertical-align: top;\n",
       "    }\n",
       "\n",
       "    .dataframe thead th {\n",
       "        text-align: right;\n",
       "    }\n",
       "</style>\n",
       "<table border=\"1\" class=\"dataframe\">\n",
       "  <thead>\n",
       "    <tr style=\"text-align: right;\">\n",
       "      <th></th>\n",
       "      <th>No</th>\n",
       "      <th>Umur</th>\n",
       "      <th>TAT Hasil Pemeriksaan</th>\n",
       "      <th>duration_time</th>\n",
       "    </tr>\n",
       "  </thead>\n",
       "  <tbody>\n",
       "    <tr>\n",
       "      <th>count</th>\n",
       "      <td>4773.000000</td>\n",
       "      <td>4773.00000</td>\n",
       "      <td>4773.000000</td>\n",
       "      <td>4773.000000</td>\n",
       "    </tr>\n",
       "    <tr>\n",
       "      <th>mean</th>\n",
       "      <td>2387.000000</td>\n",
       "      <td>42.93987</td>\n",
       "      <td>0.217054</td>\n",
       "      <td>1.983239</td>\n",
       "    </tr>\n",
       "    <tr>\n",
       "      <th>std</th>\n",
       "      <td>1377.990747</td>\n",
       "      <td>15.81458</td>\n",
       "      <td>1.544881</td>\n",
       "      <td>3.445865</td>\n",
       "    </tr>\n",
       "    <tr>\n",
       "      <th>min</th>\n",
       "      <td>1.000000</td>\n",
       "      <td>0.00000</td>\n",
       "      <td>-11.000000</td>\n",
       "      <td>0.000000</td>\n",
       "    </tr>\n",
       "    <tr>\n",
       "      <th>25%</th>\n",
       "      <td>1194.000000</td>\n",
       "      <td>31.00000</td>\n",
       "      <td>0.000000</td>\n",
       "      <td>1.000000</td>\n",
       "    </tr>\n",
       "    <tr>\n",
       "      <th>50%</th>\n",
       "      <td>2387.000000</td>\n",
       "      <td>42.00000</td>\n",
       "      <td>0.000000</td>\n",
       "      <td>1.000000</td>\n",
       "    </tr>\n",
       "    <tr>\n",
       "      <th>75%</th>\n",
       "      <td>3580.000000</td>\n",
       "      <td>55.00000</td>\n",
       "      <td>0.000000</td>\n",
       "      <td>2.000000</td>\n",
       "    </tr>\n",
       "    <tr>\n",
       "      <th>max</th>\n",
       "      <td>4773.000000</td>\n",
       "      <td>96.00000</td>\n",
       "      <td>36.000000</td>\n",
       "      <td>82.000000</td>\n",
       "    </tr>\n",
       "  </tbody>\n",
       "</table>\n",
       "</div>"
      ],
      "text/plain": [
       "                No        Umur  TAT Hasil Pemeriksaan    duration_time\n",
       "count  4773.000000  4773.00000              4773.000000    4773.000000\n",
       "mean   2387.000000    42.93987                 0.217054       1.983239\n",
       "std    1377.990747    15.81458                 1.544881       3.445865\n",
       "min       1.000000     0.00000               -11.000000       0.000000\n",
       "25%    1194.000000    31.00000                 0.000000       1.000000\n",
       "50%    2387.000000    42.00000                 0.000000       1.000000\n",
       "75%    3580.000000    55.00000                 0.000000       2.000000\n",
       "max    4773.000000    96.00000                36.000000      82.000000"
      ]
     },
     "execution_count": 24,
     "metadata": {},
     "output_type": "execute_result"
    }
   ],
   "source": [
    "df.describe()"
   ]
  },
  {
   "cell_type": "code",
   "execution_count": 25,
   "id": "efaa8ff8",
   "metadata": {},
   "outputs": [
    {
     "data": {
      "text/plain": [
       "count    4773.000000\n",
       "mean        1.983239\n",
       "std         3.445865\n",
       "min         0.000000\n",
       "25%         1.000000\n",
       "50%         1.000000\n",
       "75%         2.000000\n",
       "max        82.000000\n",
       "Name: duration_time, dtype: float64"
      ]
     },
     "execution_count": 25,
     "metadata": {},
     "output_type": "execute_result"
    }
   ],
   "source": [
    "df.duration_time.describe()"
   ]
  },
  {
   "cell_type": "code",
   "execution_count": 26,
   "id": "3db8deb5",
   "metadata": {},
   "outputs": [
    {
     "data": {
      "text/html": [
       "<div>\n",
       "<style scoped>\n",
       "    .dataframe tbody tr th:only-of-type {\n",
       "        vertical-align: middle;\n",
       "    }\n",
       "\n",
       "    .dataframe tbody tr th {\n",
       "        vertical-align: top;\n",
       "    }\n",
       "\n",
       "    .dataframe thead th {\n",
       "        text-align: right;\n",
       "    }\n",
       "</style>\n",
       "<table border=\"1\" class=\"dataframe\">\n",
       "  <thead>\n",
       "    <tr style=\"text-align: right;\">\n",
       "      <th></th>\n",
       "      <th>No</th>\n",
       "      <th>Umur</th>\n",
       "      <th>Alasan pemeriksaan</th>\n",
       "      <th>Kriteria Terduga</th>\n",
       "      <th>Tgl Permohonan Lab</th>\n",
       "      <th>Hasil Pemeriksaan TCM</th>\n",
       "      <th>Tgl Pengambilan Contoh Uji</th>\n",
       "      <th>Tgl Contoh Uji Dikirim</th>\n",
       "      <th>Tgl Contoh Uji diterima Lab</th>\n",
       "      <th>Tgl Hasil dilaporkan</th>\n",
       "      <th>TAT Hasil Pemeriksaan</th>\n",
       "      <th>Fasyankes Pengirim</th>\n",
       "      <th>duration_time</th>\n",
       "    </tr>\n",
       "  </thead>\n",
       "  <tbody>\n",
       "    <tr>\n",
       "      <th>2972</th>\n",
       "      <td>2973</td>\n",
       "      <td>56</td>\n",
       "      <td>Diagnosis TB RO</td>\n",
       "      <td>Terduga TBC RO</td>\n",
       "      <td>2022-10-05</td>\n",
       "      <td>ERROR</td>\n",
       "      <td>2022-10-05</td>\n",
       "      <td>2022-10-05</td>\n",
       "      <td>2022-12-26</td>\n",
       "      <td>2022-12-26</td>\n",
       "      <td>0</td>\n",
       "      <td>UPT RS Khusus Paru Sumatera Utara</td>\n",
       "      <td>82.0</td>\n",
       "    </tr>\n",
       "    <tr>\n",
       "      <th>2973</th>\n",
       "      <td>2974</td>\n",
       "      <td>56</td>\n",
       "      <td>Diagnosis TB RO</td>\n",
       "      <td>Terduga TBC RO</td>\n",
       "      <td>2022-10-05</td>\n",
       "      <td>Rif Res</td>\n",
       "      <td>2022-10-05</td>\n",
       "      <td>2022-10-05</td>\n",
       "      <td>2022-12-26</td>\n",
       "      <td>2022-12-26</td>\n",
       "      <td>0</td>\n",
       "      <td>UPT RS Khusus Paru Sumatera Utara</td>\n",
       "      <td>82.0</td>\n",
       "    </tr>\n",
       "  </tbody>\n",
       "</table>\n",
       "</div>"
      ],
      "text/plain": [
       "        No  Umur Alasan pemeriksaan Kriteria Terduga Tgl Permohonan Lab  \\\n",
       "2972  2973    56    Diagnosis TB RO   Terduga TBC RO         2022-10-05   \n",
       "2973  2974    56    Diagnosis TB RO   Terduga TBC RO         2022-10-05   \n",
       "\n",
       "     Hasil Pemeriksaan TCM Tgl Pengambilan Contoh Uji Tgl Contoh Uji Dikirim  \\\n",
       "2972                 ERROR                 2022-10-05             2022-10-05   \n",
       "2973               Rif Res                 2022-10-05             2022-10-05   \n",
       "\n",
       "     Tgl Contoh Uji diterima Lab Tgl Hasil dilaporkan  \\\n",
       "2972                  2022-12-26           2022-12-26   \n",
       "2973                  2022-12-26           2022-12-26   \n",
       "\n",
       "      TAT Hasil Pemeriksaan                   Fasyankes Pengirim  \\\n",
       "2972                        0  UPT RS Khusus Paru Sumatera Utara   \n",
       "2973                        0  UPT RS Khusus Paru Sumatera Utara   \n",
       "\n",
       "      duration_time  \n",
       "2972           82.0  \n",
       "2973           82.0  "
      ]
     },
     "execution_count": 26,
     "metadata": {},
     "output_type": "execute_result"
    }
   ],
   "source": [
    "df[df.duration_time == df.duration_time.max()]"
   ]
  },
  {
   "cell_type": "markdown",
   "id": "b646a770",
   "metadata": {},
   "source": [
    "Dapat dilihat nilai max pada kolom duration_time ada 2 data sebesar 82, kemungkinan juga user melakukan kesalahan input tgl hasil dilaporkan. Untuk itu kita akan mengganti dengan 0"
   ]
  },
  {
   "cell_type": "code",
   "execution_count": 27,
   "id": "c5537e99",
   "metadata": {},
   "outputs": [],
   "source": [
    "df[\"duration_time\"].replace(df[\"duration_time\"].max(), 1, inplace=True)"
   ]
  },
  {
   "cell_type": "code",
   "execution_count": 28,
   "id": "1a40165d",
   "metadata": {},
   "outputs": [
    {
     "data": {
      "text/plain": [
       "count    4773.000000\n",
       "mean        1.949298\n",
       "std         3.031468\n",
       "min         0.000000\n",
       "25%         1.000000\n",
       "50%         1.000000\n",
       "75%         2.000000\n",
       "max        42.000000\n",
       "Name: duration_time, dtype: float64"
      ]
     },
     "execution_count": 28,
     "metadata": {},
     "output_type": "execute_result"
    }
   ],
   "source": [
    "df.duration_time.describe()"
   ]
  },
  {
   "cell_type": "code",
   "execution_count": 29,
   "id": "a6182a13",
   "metadata": {},
   "outputs": [
    {
     "data": {
      "text/html": [
       "<div>\n",
       "<style scoped>\n",
       "    .dataframe tbody tr th:only-of-type {\n",
       "        vertical-align: middle;\n",
       "    }\n",
       "\n",
       "    .dataframe tbody tr th {\n",
       "        vertical-align: top;\n",
       "    }\n",
       "\n",
       "    .dataframe thead th {\n",
       "        text-align: right;\n",
       "    }\n",
       "</style>\n",
       "<table border=\"1\" class=\"dataframe\">\n",
       "  <thead>\n",
       "    <tr style=\"text-align: right;\">\n",
       "      <th></th>\n",
       "      <th>No</th>\n",
       "      <th>Umur</th>\n",
       "      <th>Alasan pemeriksaan</th>\n",
       "      <th>Kriteria Terduga</th>\n",
       "      <th>Tgl Permohonan Lab</th>\n",
       "      <th>Hasil Pemeriksaan TCM</th>\n",
       "      <th>Tgl Pengambilan Contoh Uji</th>\n",
       "      <th>Tgl Contoh Uji Dikirim</th>\n",
       "      <th>Tgl Contoh Uji diterima Lab</th>\n",
       "      <th>Tgl Hasil dilaporkan</th>\n",
       "      <th>TAT Hasil Pemeriksaan</th>\n",
       "      <th>Fasyankes Pengirim</th>\n",
       "      <th>duration_time</th>\n",
       "    </tr>\n",
       "  </thead>\n",
       "  <tbody>\n",
       "    <tr>\n",
       "      <th>1297</th>\n",
       "      <td>1298</td>\n",
       "      <td>48</td>\n",
       "      <td>Diagnosis TB SO</td>\n",
       "      <td>Terduga TBC SO</td>\n",
       "      <td>2022-12-27</td>\n",
       "      <td>Neg</td>\n",
       "      <td>2022-12-27</td>\n",
       "      <td>2023-01-27</td>\n",
       "      <td>2023-02-07</td>\n",
       "      <td>2023-02-07</td>\n",
       "      <td>0</td>\n",
       "      <td>Rutan Kelas I Medan</td>\n",
       "      <td>42.0</td>\n",
       "    </tr>\n",
       "    <tr>\n",
       "      <th>1463</th>\n",
       "      <td>1464</td>\n",
       "      <td>48</td>\n",
       "      <td>Diagnosis TB SO</td>\n",
       "      <td>Terduga TBC SO</td>\n",
       "      <td>2022-12-27</td>\n",
       "      <td>Neg</td>\n",
       "      <td>2022-12-27</td>\n",
       "      <td>2022-12-27</td>\n",
       "      <td>2023-02-07</td>\n",
       "      <td>2023-02-07</td>\n",
       "      <td>0</td>\n",
       "      <td>Rutan Kelas I Medan</td>\n",
       "      <td>42.0</td>\n",
       "    </tr>\n",
       "    <tr>\n",
       "      <th>1523</th>\n",
       "      <td>1524</td>\n",
       "      <td>36</td>\n",
       "      <td>Diagnosis TB SO</td>\n",
       "      <td>Terduga TBC SO</td>\n",
       "      <td>2022-12-27</td>\n",
       "      <td>Neg</td>\n",
       "      <td>2022-12-27</td>\n",
       "      <td>2022-12-27</td>\n",
       "      <td>2023-02-07</td>\n",
       "      <td>2023-02-07</td>\n",
       "      <td>0</td>\n",
       "      <td>Rutan Kelas I Medan</td>\n",
       "      <td>42.0</td>\n",
       "    </tr>\n",
       "    <tr>\n",
       "      <th>1724</th>\n",
       "      <td>1725</td>\n",
       "      <td>37</td>\n",
       "      <td>Diagnosis TB SO</td>\n",
       "      <td>Terduga TBC SO</td>\n",
       "      <td>2022-12-27</td>\n",
       "      <td>Neg</td>\n",
       "      <td>2022-12-27</td>\n",
       "      <td>2022-12-27</td>\n",
       "      <td>2023-02-07</td>\n",
       "      <td>2023-02-07</td>\n",
       "      <td>0</td>\n",
       "      <td>Rutan Kelas I Medan</td>\n",
       "      <td>42.0</td>\n",
       "    </tr>\n",
       "  </tbody>\n",
       "</table>\n",
       "</div>"
      ],
      "text/plain": [
       "        No  Umur Alasan pemeriksaan Kriteria Terduga Tgl Permohonan Lab  \\\n",
       "1297  1298    48    Diagnosis TB SO   Terduga TBC SO         2022-12-27   \n",
       "1463  1464    48    Diagnosis TB SO   Terduga TBC SO         2022-12-27   \n",
       "1523  1524    36    Diagnosis TB SO   Terduga TBC SO         2022-12-27   \n",
       "1724  1725    37    Diagnosis TB SO   Terduga TBC SO         2022-12-27   \n",
       "\n",
       "     Hasil Pemeriksaan TCM Tgl Pengambilan Contoh Uji Tgl Contoh Uji Dikirim  \\\n",
       "1297                   Neg                 2022-12-27             2023-01-27   \n",
       "1463                   Neg                 2022-12-27             2022-12-27   \n",
       "1523                   Neg                 2022-12-27             2022-12-27   \n",
       "1724                   Neg                 2022-12-27             2022-12-27   \n",
       "\n",
       "     Tgl Contoh Uji diterima Lab Tgl Hasil dilaporkan  \\\n",
       "1297                  2023-02-07           2023-02-07   \n",
       "1463                  2023-02-07           2023-02-07   \n",
       "1523                  2023-02-07           2023-02-07   \n",
       "1724                  2023-02-07           2023-02-07   \n",
       "\n",
       "      TAT Hasil Pemeriksaan     Fasyankes Pengirim  duration_time  \n",
       "1297                        0  Rutan Kelas I Medan           42.0  \n",
       "1463                        0  Rutan Kelas I Medan           42.0  \n",
       "1523                        0  Rutan Kelas I Medan           42.0  \n",
       "1724                        0  Rutan Kelas I Medan           42.0  "
      ]
     },
     "execution_count": 29,
     "metadata": {},
     "output_type": "execute_result"
    }
   ],
   "source": [
    "df[df.duration_time == df.duration_time.max()]"
   ]
  },
  {
   "cell_type": "markdown",
   "id": "302d8ce7",
   "metadata": {},
   "source": [
    "## Visualization & Explanatory Analysis"
   ]
  },
  {
   "cell_type": "markdown",
   "id": "88bf55b4",
   "metadata": {},
   "source": [
    "- Pertanyaan 1 : Bagaimana Peningkatan Kasus TB dari tahun ke tahun melalui hasil pemeriksaan TCM ?"
   ]
  },
  {
   "cell_type": "markdown",
   "id": "19017765",
   "metadata": {},
   "source": [
    "- Pertanyaan 2 : Berapa rata - rata lama rentang waktu dari tgl permohonan s.d tgl hasil dilaporkan ?"
   ]
  },
  {
   "cell_type": "markdown",
   "id": "d4e7b935",
   "metadata": {},
   "source": [
    "- Pertanyaan 3 : Berapa banyak fasyankes pengirim dari luar RSK Paru ?"
   ]
  },
  {
   "cell_type": "markdown",
   "id": "9149f715",
   "metadata": {},
   "source": [
    "- Pertanyaan 4 : Berapa banyak pemeriksaan berdasarkan usia?"
   ]
  },
  {
   "cell_type": "markdown",
   "id": "3ea3c9d1",
   "metadata": {},
   "source": [
    "- Pertanyaan 5 : Bagaimana hasil pemeriksaan TCM, apa yang paling banyak ditemukan pada pemeriksaan TCM ?"
   ]
  },
  {
   "cell_type": "code",
   "execution_count": 30,
   "id": "d1a0a030",
   "metadata": {},
   "outputs": [],
   "source": [
    "df['tanggal'] = pd.to_datetime(df['Tgl Permohonan Lab'])"
   ]
  },
  {
   "cell_type": "code",
   "execution_count": 31,
   "id": "4078e34b",
   "metadata": {},
   "outputs": [],
   "source": [
    "df['Bulan'] = df['tanggal'].dt.month\n",
    "df['Tahun'] = df['tanggal'].dt.year"
   ]
  },
  {
   "cell_type": "code",
   "execution_count": 32,
   "id": "66bddf4f",
   "metadata": {},
   "outputs": [
    {
     "data": {
      "text/html": [
       "<div>\n",
       "<style scoped>\n",
       "    .dataframe tbody tr th:only-of-type {\n",
       "        vertical-align: middle;\n",
       "    }\n",
       "\n",
       "    .dataframe tbody tr th {\n",
       "        vertical-align: top;\n",
       "    }\n",
       "\n",
       "    .dataframe thead th {\n",
       "        text-align: right;\n",
       "    }\n",
       "</style>\n",
       "<table border=\"1\" class=\"dataframe\">\n",
       "  <thead>\n",
       "    <tr style=\"text-align: right;\">\n",
       "      <th></th>\n",
       "      <th>No</th>\n",
       "      <th>Umur</th>\n",
       "      <th>Alasan pemeriksaan</th>\n",
       "      <th>Kriteria Terduga</th>\n",
       "      <th>Tgl Permohonan Lab</th>\n",
       "      <th>Hasil Pemeriksaan TCM</th>\n",
       "      <th>Tgl Pengambilan Contoh Uji</th>\n",
       "      <th>Tgl Contoh Uji Dikirim</th>\n",
       "      <th>Tgl Contoh Uji diterima Lab</th>\n",
       "      <th>Tgl Hasil dilaporkan</th>\n",
       "      <th>TAT Hasil Pemeriksaan</th>\n",
       "      <th>Fasyankes Pengirim</th>\n",
       "      <th>duration_time</th>\n",
       "      <th>tanggal</th>\n",
       "      <th>Bulan</th>\n",
       "      <th>Tahun</th>\n",
       "    </tr>\n",
       "  </thead>\n",
       "  <tbody>\n",
       "    <tr>\n",
       "      <th>0</th>\n",
       "      <td>1</td>\n",
       "      <td>27</td>\n",
       "      <td>Diagnosis TB SO</td>\n",
       "      <td>Terduga TBC SO</td>\n",
       "      <td>2023-05-23</td>\n",
       "      <td>Rif Sen</td>\n",
       "      <td>2023-05-23</td>\n",
       "      <td>2023-05-23</td>\n",
       "      <td>2023-05-25</td>\n",
       "      <td>2023-05-25</td>\n",
       "      <td>0</td>\n",
       "      <td>Klinik Anata Kasih</td>\n",
       "      <td>2.0</td>\n",
       "      <td>2023-05-23</td>\n",
       "      <td>5</td>\n",
       "      <td>2023</td>\n",
       "    </tr>\n",
       "    <tr>\n",
       "      <th>1</th>\n",
       "      <td>2</td>\n",
       "      <td>18</td>\n",
       "      <td>Diagnosis TB SO</td>\n",
       "      <td>Terduga TBC SO</td>\n",
       "      <td>2023-09-29</td>\n",
       "      <td>Neg</td>\n",
       "      <td>2023-09-29</td>\n",
       "      <td>2023-09-29</td>\n",
       "      <td>2023-10-02</td>\n",
       "      <td>2023-10-02</td>\n",
       "      <td>0</td>\n",
       "      <td>Klinik Citra Medika</td>\n",
       "      <td>3.0</td>\n",
       "      <td>2023-09-29</td>\n",
       "      <td>9</td>\n",
       "      <td>2023</td>\n",
       "    </tr>\n",
       "    <tr>\n",
       "      <th>2</th>\n",
       "      <td>3</td>\n",
       "      <td>84</td>\n",
       "      <td>Diagnosis TB SO</td>\n",
       "      <td>Terduga TBC SO</td>\n",
       "      <td>2023-09-14</td>\n",
       "      <td>Neg</td>\n",
       "      <td>2023-09-14</td>\n",
       "      <td>2023-09-14</td>\n",
       "      <td>2023-09-15</td>\n",
       "      <td>2023-09-15</td>\n",
       "      <td>0</td>\n",
       "      <td>Klinik Diabetes Dharma</td>\n",
       "      <td>1.0</td>\n",
       "      <td>2023-09-14</td>\n",
       "      <td>9</td>\n",
       "      <td>2023</td>\n",
       "    </tr>\n",
       "    <tr>\n",
       "      <th>3</th>\n",
       "      <td>4</td>\n",
       "      <td>56</td>\n",
       "      <td>Diagnosis TB SO</td>\n",
       "      <td>Terduga TBC SO</td>\n",
       "      <td>2023-09-07</td>\n",
       "      <td>Neg</td>\n",
       "      <td>2023-09-07</td>\n",
       "      <td>2023-09-07</td>\n",
       "      <td>2023-09-13</td>\n",
       "      <td>2023-09-13</td>\n",
       "      <td>0</td>\n",
       "      <td>Klinik Diabetes Dharma</td>\n",
       "      <td>6.0</td>\n",
       "      <td>2023-09-07</td>\n",
       "      <td>9</td>\n",
       "      <td>2023</td>\n",
       "    </tr>\n",
       "    <tr>\n",
       "      <th>4</th>\n",
       "      <td>5</td>\n",
       "      <td>27</td>\n",
       "      <td>Diagnosis TB SO</td>\n",
       "      <td>Terduga TBC SO</td>\n",
       "      <td>2023-06-26</td>\n",
       "      <td>Neg</td>\n",
       "      <td>2023-07-06</td>\n",
       "      <td>2023-07-06</td>\n",
       "      <td>2023-06-29</td>\n",
       "      <td>2023-07-03</td>\n",
       "      <td>4</td>\n",
       "      <td>Klinik Diabetes Dharma</td>\n",
       "      <td>7.0</td>\n",
       "      <td>2023-06-26</td>\n",
       "      <td>6</td>\n",
       "      <td>2023</td>\n",
       "    </tr>\n",
       "  </tbody>\n",
       "</table>\n",
       "</div>"
      ],
      "text/plain": [
       "   No  Umur Alasan pemeriksaan Kriteria Terduga Tgl Permohonan Lab  \\\n",
       "0   1    27    Diagnosis TB SO   Terduga TBC SO         2023-05-23   \n",
       "1   2    18    Diagnosis TB SO   Terduga TBC SO         2023-09-29   \n",
       "2   3    84    Diagnosis TB SO   Terduga TBC SO         2023-09-14   \n",
       "3   4    56    Diagnosis TB SO   Terduga TBC SO         2023-09-07   \n",
       "4   5    27    Diagnosis TB SO   Terduga TBC SO         2023-06-26   \n",
       "\n",
       "  Hasil Pemeriksaan TCM Tgl Pengambilan Contoh Uji Tgl Contoh Uji Dikirim  \\\n",
       "0               Rif Sen                 2023-05-23             2023-05-23   \n",
       "1                   Neg                 2023-09-29             2023-09-29   \n",
       "2                   Neg                 2023-09-14             2023-09-14   \n",
       "3                   Neg                 2023-09-07             2023-09-07   \n",
       "4                   Neg                 2023-07-06             2023-07-06   \n",
       "\n",
       "  Tgl Contoh Uji diterima Lab Tgl Hasil dilaporkan  TAT Hasil Pemeriksaan    \\\n",
       "0                  2023-05-25           2023-05-25                        0   \n",
       "1                  2023-10-02           2023-10-02                        0   \n",
       "2                  2023-09-15           2023-09-15                        0   \n",
       "3                  2023-09-13           2023-09-13                        0   \n",
       "4                  2023-06-29           2023-07-03                        4   \n",
       "\n",
       "       Fasyankes Pengirim  duration_time    tanggal  Bulan  Tahun  \n",
       "0      Klinik Anata Kasih            2.0 2023-05-23      5   2023  \n",
       "1     Klinik Citra Medika            3.0 2023-09-29      9   2023  \n",
       "2  Klinik Diabetes Dharma            1.0 2023-09-14      9   2023  \n",
       "3  Klinik Diabetes Dharma            6.0 2023-09-07      9   2023  \n",
       "4  Klinik Diabetes Dharma            7.0 2023-06-26      6   2023  "
      ]
     },
     "execution_count": 32,
     "metadata": {},
     "output_type": "execute_result"
    }
   ],
   "source": [
    "df.head()"
   ]
  },
  {
   "cell_type": "code",
   "execution_count": 33,
   "id": "a62d9e18",
   "metadata": {},
   "outputs": [],
   "source": [
    "byyear_df = df.groupby(by=\"Tahun\").No.nunique().reset_index()\n",
    "byyear_df.rename(columns={\n",
    "    \"No\":\"Jumlah\"\n",
    "}, inplace=True)"
   ]
  },
  {
   "cell_type": "code",
   "execution_count": 34,
   "id": "43b1e1dc",
   "metadata": {},
   "outputs": [
    {
     "data": {
      "image/png": "[encoded data removed]",
      "text/plain": [
       "<Figure size 500x500 with 1 Axes>"
      ]
     },
     "metadata": {},
     "output_type": "display_data"
    }
   ],
   "source": [
    "plt.figure(figsize=(5, 5))\n",
    " \n",
    "sns.barplot(\n",
    "    y=\"Jumlah\", \n",
    "    x=\"Tahun\",\n",
    "    data=byyear_df.sort_values(by=\"Jumlah\", ascending=False)\n",
    ")\n",
    "plt.title(\"Jumlah Pemeriksaan TCM Per Tahun\", loc=\"center\", fontsize=15)\n",
    "plt.ylabel(None)\n",
    "plt.xlabel(None)\n",
    "plt.tick_params(axis='x', labelsize=12)\n",
    "plt.show()"
   ]
  },
  {
   "cell_type": "markdown",
   "id": "636c25a3",
   "metadata": {},
   "source": [
    "Dari Hasil Grafik diatas, dapat dilihat setiap tahun mengalami peningkatan pemeriksaan"
   ]
  },
  {
   "cell_type": "code",
   "execution_count": 35,
   "id": "3547e8be",
   "metadata": {},
   "outputs": [],
   "source": [
    "byfasyankes_df = df.groupby(by=\"Fasyankes Pengirim\").No.nunique().reset_index()\n",
    "byfasyankes_df.rename(columns={\n",
    "    \"No\":\"Jumlah\"\n",
    "}, inplace=True)\n"
   ]
  },
  {
   "cell_type": "code",
   "execution_count": 36,
   "id": "1e957085",
   "metadata": {},
   "outputs": [
    {
     "data": {
      "image/png": "[encoded data removed]",
      "text/plain": [
       "<Figure size 1000x500 with 1 Axes>"
      ]
     },
     "metadata": {},
     "output_type": "display_data"
    }
   ],
   "source": [
    "byfasyankes_df\n",
    "plt.figure(figsize=(10, 5))\n",
    "colors_ = [\"#72BCD4\", \"#D3D3D3\", \"#D3D3D3\", \"#D3D3D3\", \"#D3D3D3\", \"#D3D3D3\", \"#D3D3D3\", \"#D3D3D3\"]\n",
    "sns.barplot(\n",
    "    x=\"Jumlah\", \n",
    "    y=\"Fasyankes Pengirim\",\n",
    "    data=byfasyankes_df.sort_values(by=\"Jumlah\", ascending=False),\n",
    "    palette=colors_\n",
    ")\n",
    "plt.title(\"Jumlah Fasyankes Pengirim Terbanyak\", loc=\"center\", fontsize=15)\n",
    "plt.ylabel(None)\n",
    "plt.xlabel(None)\n",
    "plt.tick_params(axis='y', labelsize=12)\n",
    "plt.show()"
   ]
  },
  {
   "cell_type": "markdown",
   "id": "1648c2ad",
   "metadata": {},
   "source": [
    "Dari Grafik diatas dapat dilihat, fasyankes pengirim terbanyak selain UPT RSK Paru adalah Rutan Kelas I Medan"
   ]
  },
  {
   "cell_type": "code",
   "execution_count": 37,
   "id": "684af203",
   "metadata": {},
   "outputs": [
    {
     "data": {
      "text/plain": [
       "kelompok_usia\n",
       "Dewasa         3894\n",
       "Lanjut Usia     740\n",
       "Anak-anak       139\n",
       "Name: No, dtype: int64"
      ]
     },
     "execution_count": 37,
     "metadata": {},
     "output_type": "execute_result"
    }
   ],
   "source": [
    "df[\"kelompok_usia\"] = df.Umur.apply(lambda x: \"Anak-anak\" if x <= 17 else (\"Lanjut Usia\" if x > 60 else \"Dewasa\"))\n",
    "df.groupby(by=\"kelompok_usia\").No.nunique().sort_values(ascending=False)"
   ]
  },
  {
   "cell_type": "markdown",
   "id": "6d77dce0",
   "metadata": {},
   "source": [
    "Jumlah Pemeriksaan Berdasatkan Kelompok Usia"
   ]
  },
  {
   "cell_type": "code",
   "execution_count": 38,
   "id": "03ab80c9",
   "metadata": {},
   "outputs": [
    {
     "data": {
      "image/png": "[encoded data removed]",
      "text/plain": [
       "<Figure size 600x500 with 1 Axes>"
      ]
     },
     "metadata": {},
     "output_type": "display_data"
    }
   ],
   "source": [
    "byage_df = df.groupby(by=\"kelompok_usia\").No.nunique().reset_index()\n",
    "byage_df.rename(columns={\n",
    "    \"No\": \"Jumlah\"\n",
    "}, inplace=True)\n",
    "byage_df\n",
    "byage_df['kelompok_usia'] = pd.Categorical(byage_df['kelompok_usia'], [\"Anak-anak\", \"Dewasa\", \"Lanjut Usia\"])\n",
    "plt.figure(figsize=(6, 5))\n",
    "colors_ = [\"#D3D3D3\", \"#72BCD4\", \"#D3D3D3\", \"#D3D3D3\", \"#D3D3D3\"]\n",
    " \n",
    "sns.barplot(\n",
    "    y=\"Jumlah\", \n",
    "    x=\"kelompok_usia\",\n",
    "    data=byage_df.sort_values(by=\"kelompok_usia\", ascending=False),\n",
    "    palette=colors_\n",
    ")\n",
    "plt.title(\"Jumlah Pemeriksaan Berdasatkan Kelompok Usia\", loc=\"center\", fontsize=15)\n",
    "plt.ylabel(None)\n",
    "plt.xlabel(None)\n",
    "plt.tick_params(axis='x', labelsize=12)\n",
    "plt.show()"
   ]
  },
  {
   "cell_type": "markdown",
   "id": "01ae5ee0",
   "metadata": {},
   "source": [
    "Berdasarkan grafik diatas, paling banyak pemeriksaan dilakukan pada orang dewasa dengan kreiteria dibawah ini :\n",
    "1. Anak-anak dibawah 17 tahun\n",
    "2. Dewasa 17 s.d 60 tahun\n",
    "3. Lanjut Usia diatas 60 tahun"
   ]
  },
  {
   "cell_type": "code",
   "execution_count": 39,
   "id": "dff616c3",
   "metadata": {},
   "outputs": [
    {
     "data": {
      "text/plain": [
       "range_waktu\n",
       "Diatas 1 hari    2980\n",
       "0 hari           1090\n",
       "Diatas 3 hari     703\n",
       "Name: No, dtype: int64"
      ]
     },
     "execution_count": 39,
     "metadata": {},
     "output_type": "execute_result"
    }
   ],
   "source": [
    "df[\"range_waktu\"] = df.duration_time.apply(lambda x: \"0 hari\" if x == 0 else (\"Diatas 3 hari\" if x > 3 else \"Diatas 1 hari\"))\n",
    "df.groupby(by=\"range_waktu\").No.nunique().sort_values(ascending=False)"
   ]
  },
  {
   "cell_type": "code",
   "execution_count": 40,
   "id": "85b3a575",
   "metadata": {},
   "outputs": [
    {
     "data": {
      "text/html": [
       "<div>\n",
       "<style scoped>\n",
       "    .dataframe tbody tr th:only-of-type {\n",
       "        vertical-align: middle;\n",
       "    }\n",
       "\n",
       "    .dataframe tbody tr th {\n",
       "        vertical-align: top;\n",
       "    }\n",
       "\n",
       "    .dataframe thead th {\n",
       "        text-align: right;\n",
       "    }\n",
       "</style>\n",
       "<table border=\"1\" class=\"dataframe\">\n",
       "  <thead>\n",
       "    <tr style=\"text-align: right;\">\n",
       "      <th></th>\n",
       "      <th>No</th>\n",
       "      <th>Umur</th>\n",
       "      <th>Alasan pemeriksaan</th>\n",
       "      <th>Kriteria Terduga</th>\n",
       "      <th>Tgl Permohonan Lab</th>\n",
       "      <th>Hasil Pemeriksaan TCM</th>\n",
       "      <th>Tgl Pengambilan Contoh Uji</th>\n",
       "      <th>Tgl Contoh Uji Dikirim</th>\n",
       "      <th>Tgl Contoh Uji diterima Lab</th>\n",
       "      <th>Tgl Hasil dilaporkan</th>\n",
       "      <th>TAT Hasil Pemeriksaan</th>\n",
       "      <th>Fasyankes Pengirim</th>\n",
       "      <th>duration_time</th>\n",
       "      <th>tanggal</th>\n",
       "      <th>Bulan</th>\n",
       "      <th>Tahun</th>\n",
       "      <th>kelompok_usia</th>\n",
       "      <th>range_waktu</th>\n",
       "    </tr>\n",
       "  </thead>\n",
       "  <tbody>\n",
       "    <tr>\n",
       "      <th>0</th>\n",
       "      <td>1</td>\n",
       "      <td>27</td>\n",
       "      <td>Diagnosis TB SO</td>\n",
       "      <td>Terduga TBC SO</td>\n",
       "      <td>2023-05-23</td>\n",
       "      <td>Rif Sen</td>\n",
       "      <td>2023-05-23</td>\n",
       "      <td>2023-05-23</td>\n",
       "      <td>2023-05-25</td>\n",
       "      <td>2023-05-25</td>\n",
       "      <td>0</td>\n",
       "      <td>Klinik Anata Kasih</td>\n",
       "      <td>2.0</td>\n",
       "      <td>2023-05-23</td>\n",
       "      <td>5</td>\n",
       "      <td>2023</td>\n",
       "      <td>Dewasa</td>\n",
       "      <td>Diatas 1 hari</td>\n",
       "    </tr>\n",
       "    <tr>\n",
       "      <th>1</th>\n",
       "      <td>2</td>\n",
       "      <td>18</td>\n",
       "      <td>Diagnosis TB SO</td>\n",
       "      <td>Terduga TBC SO</td>\n",
       "      <td>2023-09-29</td>\n",
       "      <td>Neg</td>\n",
       "      <td>2023-09-29</td>\n",
       "      <td>2023-09-29</td>\n",
       "      <td>2023-10-02</td>\n",
       "      <td>2023-10-02</td>\n",
       "      <td>0</td>\n",
       "      <td>Klinik Citra Medika</td>\n",
       "      <td>3.0</td>\n",
       "      <td>2023-09-29</td>\n",
       "      <td>9</td>\n",
       "      <td>2023</td>\n",
       "      <td>Dewasa</td>\n",
       "      <td>Diatas 1 hari</td>\n",
       "    </tr>\n",
       "    <tr>\n",
       "      <th>2</th>\n",
       "      <td>3</td>\n",
       "      <td>84</td>\n",
       "      <td>Diagnosis TB SO</td>\n",
       "      <td>Terduga TBC SO</td>\n",
       "      <td>2023-09-14</td>\n",
       "      <td>Neg</td>\n",
       "      <td>2023-09-14</td>\n",
       "      <td>2023-09-14</td>\n",
       "      <td>2023-09-15</td>\n",
       "      <td>2023-09-15</td>\n",
       "      <td>0</td>\n",
       "      <td>Klinik Diabetes Dharma</td>\n",
       "      <td>1.0</td>\n",
       "      <td>2023-09-14</td>\n",
       "      <td>9</td>\n",
       "      <td>2023</td>\n",
       "      <td>Lanjut Usia</td>\n",
       "      <td>Diatas 1 hari</td>\n",
       "    </tr>\n",
       "    <tr>\n",
       "      <th>3</th>\n",
       "      <td>4</td>\n",
       "      <td>56</td>\n",
       "      <td>Diagnosis TB SO</td>\n",
       "      <td>Terduga TBC SO</td>\n",
       "      <td>2023-09-07</td>\n",
       "      <td>Neg</td>\n",
       "      <td>2023-09-07</td>\n",
       "      <td>2023-09-07</td>\n",
       "      <td>2023-09-13</td>\n",
       "      <td>2023-09-13</td>\n",
       "      <td>0</td>\n",
       "      <td>Klinik Diabetes Dharma</td>\n",
       "      <td>6.0</td>\n",
       "      <td>2023-09-07</td>\n",
       "      <td>9</td>\n",
       "      <td>2023</td>\n",
       "      <td>Dewasa</td>\n",
       "      <td>Diatas 3 hari</td>\n",
       "    </tr>\n",
       "    <tr>\n",
       "      <th>4</th>\n",
       "      <td>5</td>\n",
       "      <td>27</td>\n",
       "      <td>Diagnosis TB SO</td>\n",
       "      <td>Terduga TBC SO</td>\n",
       "      <td>2023-06-26</td>\n",
       "      <td>Neg</td>\n",
       "      <td>2023-07-06</td>\n",
       "      <td>2023-07-06</td>\n",
       "      <td>2023-06-29</td>\n",
       "      <td>2023-07-03</td>\n",
       "      <td>4</td>\n",
       "      <td>Klinik Diabetes Dharma</td>\n",
       "      <td>7.0</td>\n",
       "      <td>2023-06-26</td>\n",
       "      <td>6</td>\n",
       "      <td>2023</td>\n",
       "      <td>Dewasa</td>\n",
       "      <td>Diatas 3 hari</td>\n",
       "    </tr>\n",
       "  </tbody>\n",
       "</table>\n",
       "</div>"
      ],
      "text/plain": [
       "   No  Umur Alasan pemeriksaan Kriteria Terduga Tgl Permohonan Lab  \\\n",
       "0   1    27    Diagnosis TB SO   Terduga TBC SO         2023-05-23   \n",
       "1   2    18    Diagnosis TB SO   Terduga TBC SO         2023-09-29   \n",
       "2   3    84    Diagnosis TB SO   Terduga TBC SO         2023-09-14   \n",
       "3   4    56    Diagnosis TB SO   Terduga TBC SO         2023-09-07   \n",
       "4   5    27    Diagnosis TB SO   Terduga TBC SO         2023-06-26   \n",
       "\n",
       "  Hasil Pemeriksaan TCM Tgl Pengambilan Contoh Uji Tgl Contoh Uji Dikirim  \\\n",
       "0               Rif Sen                 2023-05-23             2023-05-23   \n",
       "1                   Neg                 2023-09-29             2023-09-29   \n",
       "2                   Neg                 2023-09-14             2023-09-14   \n",
       "3                   Neg                 2023-09-07             2023-09-07   \n",
       "4                   Neg                 2023-07-06             2023-07-06   \n",
       "\n",
       "  Tgl Contoh Uji diterima Lab Tgl Hasil dilaporkan  TAT Hasil Pemeriksaan    \\\n",
       "0                  2023-05-25           2023-05-25                        0   \n",
       "1                  2023-10-02           2023-10-02                        0   \n",
       "2                  2023-09-15           2023-09-15                        0   \n",
       "3                  2023-09-13           2023-09-13                        0   \n",
       "4                  2023-06-29           2023-07-03                        4   \n",
       "\n",
       "       Fasyankes Pengirim  duration_time    tanggal  Bulan  Tahun  \\\n",
       "0      Klinik Anata Kasih            2.0 2023-05-23      5   2023   \n",
       "1     Klinik Citra Medika            3.0 2023-09-29      9   2023   \n",
       "2  Klinik Diabetes Dharma            1.0 2023-09-14      9   2023   \n",
       "3  Klinik Diabetes Dharma            6.0 2023-09-07      9   2023   \n",
       "4  Klinik Diabetes Dharma            7.0 2023-06-26      6   2023   \n",
       "\n",
       "  kelompok_usia    range_waktu  \n",
       "0        Dewasa  Diatas 1 hari  \n",
       "1        Dewasa  Diatas 1 hari  \n",
       "2   Lanjut Usia  Diatas 1 hari  \n",
       "3        Dewasa  Diatas 3 hari  \n",
       "4        Dewasa  Diatas 3 hari  "
      ]
     },
     "execution_count": 40,
     "metadata": {},
     "output_type": "execute_result"
    }
   ],
   "source": [
    "df.head()"
   ]
  },
  {
   "cell_type": "code",
   "execution_count": 41,
   "id": "6db2b0b5",
   "metadata": {},
   "outputs": [
    {
     "data": {
      "image/png": "[encoded data removed]",
      "text/plain": [
       "<Figure size 600x500 with 1 Axes>"
      ]
     },
     "metadata": {},
     "output_type": "display_data"
    }
   ],
   "source": [
    "bytime_df = df.groupby(by=\"range_waktu\").No.nunique().reset_index()\n",
    "bytime_df.rename(columns={\n",
    "    \"No\": \"Jumlah\"\n",
    "}, inplace=True)\n",
    "bytime_df\n",
    "bytime_df['range_waktu'] = pd.Categorical(bytime_df['range_waktu'], [\"0 hari\", \"Diatas 1 hari\", \"Diatas 3 hari\"])\n",
    "plt.figure(figsize=(6, 5))\n",
    "colors_ = [\"#D3D3D3\", \"#72BCD4\", \"#D3D3D3\", \"#D3D3D3\", \"#D3D3D3\"]\n",
    " \n",
    "sns.barplot(\n",
    "    y=\"Jumlah\", \n",
    "    x=\"range_waktu\",\n",
    "    data=bytime_df.sort_values(by=\"range_waktu\", ascending=False),\n",
    "    palette=colors_\n",
    ")\n",
    "plt.title(\"Jumlah Pemeriksaan Berdasarkan Durasi Permohonan sd Pelaporan\", loc=\"center\", fontsize=15)\n",
    "plt.ylabel(None)\n",
    "plt.xlabel(None)\n",
    "plt.tick_params(axis='x', labelsize=12)\n",
    "plt.show()"
   ]
  },
  {
   "cell_type": "markdown",
   "id": "f08e7d37",
   "metadata": {},
   "source": [
    "Dari Grafik diatas, paling banyak durasi waktu dari permohonan sd pelaporan ada diatas 1 sd 2 hari"
   ]
  },
  {
   "cell_type": "code",
   "execution_count": 42,
   "id": "ec909117",
   "metadata": {},
   "outputs": [],
   "source": [
    "df_2021 = df[df['Tahun']==2021]\n",
    "df_2022 = df[df['Tahun']==2022]\n",
    "df_2023 = df[df['Tahun']==2023]"
   ]
  },
  {
   "cell_type": "code",
   "execution_count": 43,
   "id": "b7f7571c",
   "metadata": {},
   "outputs": [
    {
     "data": {
      "text/plain": [
       "UPT RS Khusus Paru Sumatera Utara              1020\n",
       "LAPAS Kelas I Medan                             318\n",
       "Rutan Kelas I Medan                             284\n",
       "Rutan Kelas I Labuhan Deli                      122\n",
       "RS Umum Hermina Kota Medan                      112\n",
       "Puskesmas Helvetia                              109\n",
       "Puskesmas Desa Lalang                            58\n",
       "Puskesmas Padang Bulan Selayang II               50\n",
       "RS Umum Universitas Sumatera Utara               39\n",
       "Klinik Kurnia Medan                              31\n",
       "Klinik Milenium                                  24\n",
       "RS Umum Bunda Thamrin                            22\n",
       "Rutan Perempuan Kelas II-A Medan                 18\n",
       "RS Umum Sundari                                  14\n",
       "Klinik Wulandari                                 13\n",
       "Klinik Hasanuddin                                10\n",
       "Klinik Ummi                                       6\n",
       "LAPAS Perempuan Kelas II-A Medan                  5\n",
       "Lembaga Pembinaan Khusus Anak Kelas I Medan       3\n",
       "Klinik Tan 21                                     3\n",
       "Klinik Diabetes Dharma                            3\n",
       "Klinik Pratama Serasi                             2\n",
       "Klinik Citra Medika                               1\n",
       "Klinik Helvetia III                               1\n",
       "Klinik Harapan Sehat Sejahtera                    1\n",
       "Klinik Anata Kasih                                1\n",
       "Name: Fasyankes Pengirim, dtype: int64"
      ]
     },
     "execution_count": 43,
     "metadata": {},
     "output_type": "execute_result"
    }
   ],
   "source": [
    "df_2023['Fasyankes Pengirim'].value_counts()"
   ]
  },
  {
   "cell_type": "code",
   "execution_count": 44,
   "id": "4f455792",
   "metadata": {},
   "outputs": [],
   "source": [
    "byfasyankes_2023_df = df_2023.groupby(by=\"Fasyankes Pengirim\").No.nunique().reset_index()\n",
    "byfasyankes_2023_df.rename(columns={\n",
    "    \"No\":\"Jumlah\"\n",
    "}, inplace=True)"
   ]
  },
  {
   "cell_type": "code",
   "execution_count": 45,
   "id": "98440bce",
   "metadata": {},
   "outputs": [
    {
     "data": {
      "image/png": "[encoded data removed]",
      "text/plain": [
       "<Figure size 1000x500 with 1 Axes>"
      ]
     },
     "metadata": {},
     "output_type": "display_data"
    }
   ],
   "source": [
    "df_2023\n",
    "plt.figure(figsize=(10, 5))\n",
    "colors_ = [\"#72BCD4\", \"#D3D3D3\", \"#D3D3D3\", \"#D3D3D3\", \"#D3D3D3\", \"#D3D3D3\", \"#D3D3D3\", \"#D3D3D3\"]\n",
    "sns.barplot(\n",
    "    x=\"Jumlah\", \n",
    "    y=\"Fasyankes Pengirim\",\n",
    "    data=byfasyankes_2023_df.sort_values(by=\"Jumlah\", ascending=False),\n",
    "    palette=colors_\n",
    ")\n",
    "plt.title(\"Jumlah Fasyankes Pengirim Terbanyak Tahun 2023\", loc=\"center\", fontsize=15)\n",
    "plt.ylabel(None)\n",
    "plt.xlabel(None)\n",
    "plt.tick_params(axis='y', labelsize=12)\n",
    "plt.show()"
   ]
  },
  {
   "cell_type": "code",
   "execution_count": 46,
   "id": "bcb518a7",
   "metadata": {},
   "outputs": [],
   "source": [
    "bytime_2023_df = df_2023.groupby(by=\"range_waktu\").No.nunique().reset_index()\n",
    "bytime_2023_df.rename(columns={\n",
    "    \"No\": \"Jumlah\"\n",
    "}, inplace=True)"
   ]
  },
  {
   "cell_type": "code",
   "execution_count": 47,
   "id": "6b7d4304",
   "metadata": {},
   "outputs": [
    {
     "data": {
      "image/png": "[encoded data removed]",
      "text/plain": [
       "<Figure size 600x500 with 1 Axes>"
      ]
     },
     "metadata": {},
     "output_type": "display_data"
    }
   ],
   "source": [
    "bytime_2023_df\n",
    "bytime_2023_df['range_waktu'] = pd.Categorical(bytime_2023_df['range_waktu'], [\"0 hari\", \"Diatas 1 hari\", \"Diatas 3 hari\"])\n",
    "plt.figure(figsize=(6, 5))\n",
    "colors_ = [\"#D3D3D3\", \"#72BCD4\", \"#D3D3D3\", \"#D3D3D3\", \"#D3D3D3\"]\n",
    " \n",
    "sns.barplot(\n",
    "    y=\"Jumlah\", \n",
    "    x=\"range_waktu\",\n",
    "    data=bytime_2023_df.sort_values(by=\"range_waktu\", ascending=False),\n",
    "    palette=colors_\n",
    ")\n",
    "plt.title(\"Jumlah Pemeriksaan Berdasarkan Durasi Permohonan sd Pelaporan Tahun 2023\", loc=\"center\", fontsize=15)\n",
    "plt.ylabel(None)\n",
    "plt.xlabel(None)\n",
    "plt.tick_params(axis='x', labelsize=12)\n",
    "plt.show()"
   ]
  },
  {
   "cell_type": "code",
   "execution_count": 48,
   "id": "b36c5916",
   "metadata": {},
   "outputs": [
    {
     "data": {
      "text/plain": [
       "Neg          1632\n",
       "Rif Sen       470\n",
       "ERROR          70\n",
       "Rif Res        49\n",
       "Rif Indet      30\n",
       "NO RESULT      13\n",
       "INVALID         6\n",
       "Name: Hasil Pemeriksaan TCM, dtype: int64"
      ]
     },
     "execution_count": 48,
     "metadata": {},
     "output_type": "execute_result"
    }
   ],
   "source": [
    "df_2023['Hasil Pemeriksaan TCM'].value_counts()"
   ]
  },
  {
   "cell_type": "code",
   "execution_count": 49,
   "id": "c61abdbf",
   "metadata": {},
   "outputs": [],
   "source": [
    "byhasil_2023_df = df_2023.groupby(by=\"Hasil Pemeriksaan TCM\").No.nunique().reset_index()\n",
    "byhasil_2023_df.rename(columns={\n",
    "    \"No\": \"Jumlah\"\n",
    "}, inplace=True)"
   ]
  },
  {
   "cell_type": "code",
   "execution_count": 50,
   "id": "25cbf51a",
   "metadata": {},
   "outputs": [
    {
     "data": {
      "image/png": "[encoded data removed]",
      "text/plain": [
       "<Figure size 1000x500 with 1 Axes>"
      ]
     },
     "metadata": {},
     "output_type": "display_data"
    }
   ],
   "source": [
    "byhasil_2023_df\n",
    "\n",
    "plt.figure(figsize=(10, 5))\n",
    "colors_ = [\"#72BCD4\", \"#D3D3D3\", \"#D3D3D3\", \"#D3D3D3\", \"#D3D3D3\", \"#D3D3D3\", \"#D3D3D3\", \"#D3D3D3\"]\n",
    "sns.barplot(\n",
    "    x=\"Jumlah\", \n",
    "    y=\"Hasil Pemeriksaan TCM\",\n",
    "    data=byhasil_2023_df.sort_values(by=\"Jumlah\", ascending=False),\n",
    "    palette=colors_\n",
    ")\n",
    "plt.title(\"Jumlah Hasil Pemeriksaan TCM Tahun 2023\", loc=\"center\", fontsize=15)\n",
    "plt.ylabel(None)\n",
    "plt.xlabel(None)\n",
    "plt.tick_params(axis='y', labelsize=12)\n",
    "plt.show()"
   ]
  },
  {
   "cell_type": "markdown",
   "id": "22095024",
   "metadata": {},
   "source": [
    "Dari Hasil diatas, dapat dilihat hasil pemeriksaan TCM pada tahun 2023 yaitu Negatif"
   ]
  },
  {
   "cell_type": "code",
   "execution_count": 51,
   "id": "68b387e7",
   "metadata": {},
   "outputs": [],
   "source": [
    "df.to_csv(\"all_data.csv\")"
   ]
  },
  {
   "cell_type": "code",
   "execution_count": null,
   "id": "a03d390a",
   "metadata": {},
   "outputs": [],
   "source": []
  }
 ],
 "metadata": {
  "kernelspec": {
   "display_name": "Python 3 (ipykernel)",
   "language": "python",
   "name": "python3"
  },
  "language_info": {
   "codemirror_mode": {
    "name": "ipython",
    "version": 3
   },
   "file_extension": ".py",
   "mimetype": "text/x-python",
   "name": "python",
   "nbconvert_exporter": "python",
   "pygments_lexer": "ipython3",
   "version": "3.9.13"
  }
 },
 "nbformat": 4,
 "nbformat_minor": 5
}
